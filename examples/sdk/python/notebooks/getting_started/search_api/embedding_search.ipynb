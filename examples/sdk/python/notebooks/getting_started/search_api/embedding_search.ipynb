{
  "cells": [
    {
      "cell_type": "markdown",
      "metadata": {
        "id": "-t91wzcKTcOg"
      },
      "source": [
        "# Getting Started with Vantage: Embedding Search\n",
        "\n",
        "Welcome to the Embedding Search part of our [Getting Started with Vantage](https://github.com/VantageDiscovery/vantage-tutorials/tree/main/examples/sdk/python/notebooks/getting_started) series.\n",
        "\n",
        "This notebook will demonstrate the embedding search capabilities provided by the Vantage SDK and guide you on how to use them effectively.\n",
        "\n",
        "[![Open In Colab](https://colab.research.google.com/assets/colab-badge.svg)](https://colab.research.google.com/github/VantageDiscovery/vantage-tutorials/blob/main/examples/sdk/python/notebooks/getting_started/search_api/embedding_search.ipynb)"
      ]
    },
    {
      "cell_type": "markdown",
      "metadata": {},
      "source": [
        "### ✅ Installation\n",
        "\n",
        "The first step involves installing the [Vantage](https://pypi.org/project/vantage-sdk/) package."
      ]
    },
    {
      "cell_type": "code",
      "execution_count": null,
      "metadata": {},
      "outputs": [],
      "source": [
        "! pip install vantage-sdk -qU"
      ]
    },
    {
      "cell_type": "markdown",
      "metadata": {},
      "source": [
        "As usual, let's import the necessary libraries.\n",
        "\n",
        "In this example we will need just the `os` library to load our environment variables:"
      ]
    },
    {
      "cell_type": "code",
      "execution_count": 2,
      "metadata": {},
      "outputs": [],
      "source": [
        "import os"
      ]
    },
    {
      "cell_type": "markdown",
      "metadata": {},
      "source": [
        "### ✅ Initialization\n",
        "\n",
        "In this example, we will authenticate using a Vantage API Key.\n",
        "For additional details on initializing the Vantage client, refer to the [notebook](../initializing_the_client.ipynb) that covers this topic first.\n",
        "\n",
        "Please update the following two cells with the appropriate values."
      ]
    },
    {
      "cell_type": "code",
      "execution_count": 3,
      "metadata": {},
      "outputs": [],
      "source": [
        "ACCOUNT_ID = \"YOUR_ACCOUNT_ID\"\n",
        "API_HOST = \"https://api.dev-a.dev.vantagediscovery.com\""
      ]
    },
    {
      "cell_type": "code",
      "execution_count": 4,
      "metadata": {},
      "outputs": [
        {
          "name": "stdout",
          "output_type": "stream",
          "text": [
            "env: VANTAGE_API_KEY=$2a$10$iKSHq7X6J4nfz7p.WNUR7uMFF.IqH1bpvaKZdpo07OEBxIurWbmhu\n"
          ]
        }
      ],
      "source": [
        "%env VANTAGE_API_KEY=VANTAGE_API_KEY"
      ]
    },
    {
      "cell_type": "code",
      "execution_count": 5,
      "metadata": {},
      "outputs": [],
      "source": [
        "from vantage_sdk import VantageClient\n",
        "\n",
        "vantage_instance = VantageClient.using_vantage_api_key(\n",
        "    vantage_api_key=os.environ[\"VANTAGE_API_KEY\"],\n",
        "    account_id=ACCOUNT_ID,\n",
        "    api_host=API_HOST,\n",
        ")"
      ]
    },
    {
      "cell_type": "markdown",
      "metadata": {
        "id": "_fMrQTRHW0OA"
      },
      "source": [
        "## ✅ Embedding Search\n",
        "\n",
        "To perform our Embedding Search, we will first create a sample collection and upload some sample data to it, which we will then search over later.\n",
        "\n",
        "In this example, we are creating a User-provided embeddings collection because it's easier to manually evaluate search results and embedding vector similarities."
      ]
    },
    {
      "cell_type": "code",
      "execution_count": 22,
      "metadata": {},
      "outputs": [],
      "source": [
        "from vantage_sdk import UserProvidedEmbeddingsCollection\n",
        "\n",
        "COLLECTION_ID = \"embedding-search-upe-collection\"\n",
        "EMBEDDINGS_DIMENSION = 6\n",
        "\n",
        "collection = UserProvidedEmbeddingsCollection(\n",
        "    collection_id=COLLECTION_ID,\n",
        "    embeddings_dimension=EMBEDDINGS_DIMENSION,\n",
        ")\n",
        "\n",
        "collection = vantage_instance.create_collection(collection)"
      ]
    },
    {
      "cell_type": "code",
      "execution_count": 23,
      "metadata": {},
      "outputs": [],
      "source": [
        "sample_documents = [\n",
        "    {\"id\": \"first_doc\", \"text\": \"First Document\", \"embeddings\": [0.8324, 0.2123, 0.1818, 0.1834, 0.3042, 0.5248]},\n",
        "    {\"id\": \"second_doc\", \"text\": \"Second Document\", \"embeddings\": [0.0581, 0.8662, 0.6011, 0.7081, 0.0206, 0.9699]},\n",
        "    {\"id\": \"third_doc\", \"text\": \"Third Document\", \"embeddings\": [0.3745, 0.9507, 0.7320, 0.5987, 0.1560, 0.1560]},\n",
        "    {\"id\": \"fourth_doc\", \"text\": \"Fourth Document\", \"embeddings\": [0.4319, 0.2912, 0.6119, 0.1395, 0.2921, 0.3664]},\n",
        "]"
      ]
    },
    {
      "cell_type": "code",
      "execution_count": 24,
      "metadata": {},
      "outputs": [],
      "source": [
        "import json\n",
        "\n",
        "DOCUMENTS_JSONL = \"\\n\".join(map(json.dumps, [doc for doc in sample_documents]))"
      ]
    },
    {
      "cell_type": "code",
      "execution_count": 25,
      "metadata": {},
      "outputs": [],
      "source": [
        "vantage_instance.upload_documents_from_jsonl(\n",
        "    collection_id=COLLECTION_ID,\n",
        "    documents=DOCUMENTS_JSONL,\n",
        ")"
      ]
    },
    {
      "cell_type": "markdown",
      "metadata": {},
      "source": [
        "To perform an embedding search, we need to provide a query embedding. In our case, `QUERY_EMBEDDING` is intentionally created to be similar to the embedding vector of our third document."
      ]
    },
    {
      "cell_type": "code",
      "execution_count": 27,
      "metadata": {},
      "outputs": [],
      "source": [
        "QUERY_EMBEDDING = [0.3892, 0.9485, 0.7327, 0.5844, 0.1506, 0.1571]\n",
        "\n",
        "response = vantage_instance.embedding_search(\n",
        "    collection_id=COLLECTION_ID,\n",
        "    embedding=QUERY_EMBEDDING,\n",
        ")"
      ]
    },
    {
      "cell_type": "code",
      "execution_count": 28,
      "metadata": {},
      "outputs": [
        {
          "name": "stdout",
          "output_type": "stream",
          "text": [
            "id='third_doc' score=0.9999440908432007\n",
            "id='second_doc' score=0.9122505187988281\n",
            "id='fourth_doc' score=0.906685471534729\n",
            "id='first_doc' score=0.7935851812362671\n"
          ]
        }
      ],
      "source": [
        "for res in response.results:\n",
        "    print(res)"
      ]
    },
    {
      "cell_type": "markdown",
      "metadata": {},
      "source": [
        "We can see that our top result is the third document, with a score of almost 1. There are some similarities with other documents as well, but they have clearly lower scores than the third."
      ]
    },
    {
      "cell_type": "markdown",
      "metadata": {
        "id": "QTCr5LcQW1rs"
      },
      "source": [
        "## 📌 Next Steps\n",
        "\n",
        "You are now familiar with the Embedding Search with Vantage! \n",
        "\n",
        "You can take a look at other notebooks from our [Getting Started with Vantage](https://github.com/VantageDiscovery/vantage-tutorials/tree/main/examples/sdk/python/notebooks/getting_started) series or continue using Vantage on your own.\n",
        "\n",
        "If you need some ideas, check our [Tutorials](https://docs.vantagediscovery.com/docs/tutorials), where you can find inspiration and best practices for using Vantage.\n",
        "\n",
        "Happy discovering! 🔎"
      ]
    }
  ],
  "metadata": {
    "colab": {
      "provenance": [],
      "toc_visible": true
    },
    "kernelspec": {
      "display_name": "Python 3",
      "name": "python3"
    },
    "language_info": {
      "codemirror_mode": {
        "name": "ipython",
        "version": 3
      },
      "file_extension": ".py",
      "mimetype": "text/x-python",
      "name": "python",
      "nbconvert_exporter": "python",
      "pygments_lexer": "ipython3",
      "version": "3.10.13"
    }
  },
  "nbformat": 4,
  "nbformat_minor": 0
}
