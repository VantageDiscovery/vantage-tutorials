{
 "cells": [
  {
   "cell_type": "markdown",
   "metadata": {},
   "source": [
    "# Vantage & LangChain: _Storage & Indexing Pipeline_"
   ]
  },
  {
   "cell_type": "markdown",
   "metadata": {},
   "source": [
    "## Initial Setup"
   ]
  },
  {
   "cell_type": "markdown",
   "metadata": {},
   "source": [
    "### Keys and Secrets"
   ]
  },
  {
   "cell_type": "code",
   "execution_count": 13,
   "metadata": {},
   "outputs": [],
   "source": [
    "OPENAI_KEY = \"YOUR_OPENAI_KEY\"\n",
    "VANTAGE_API_KEY = \"YOUR_VANTAGE_API_KEY\"\n",
    "JWT = \"YOUR_JWT_TOKEN\""
   ]
  },
  {
   "cell_type": "markdown",
   "metadata": {},
   "source": [
    "### Vantage Configuration"
   ]
  },
  {
   "cell_type": "code",
   "execution_count": 2,
   "metadata": {},
   "outputs": [],
   "source": [
    "LLM = \"text-embedding-ada-002\"\n",
    "EMBEDDING_DIMENSION = 1536"
   ]
  },
  {
   "cell_type": "markdown",
   "metadata": {},
   "source": [
    "### Data Sample"
   ]
  },
  {
   "cell_type": "code",
   "execution_count": 3,
   "metadata": {},
   "outputs": [],
   "source": [
    "TEXTS = [\n",
    "    \"Ted goes to the gym and exercises three times a week during summer.\",\n",
    "    \"Yuriko and Mina are going to Hawaii this summer.\",\n",
    "    \"Many people eat cereal for breakfast.\",\n",
    "]\n",
    "\n",
    "METADATA = [\n",
    "    {\"planet\": \"Earth\", \"something_else\": \"Some value\"},\n",
    "    {\"planet\": \"Earth\"},\n",
    "    {\"planet\": \"Mars\"},\n",
    "]"
   ]
  },
  {
   "cell_type": "markdown",
   "metadata": {},
   "source": [
    "### Vantage SDK Installation"
   ]
  },
  {
   "cell_type": "code",
   "execution_count": 4,
   "metadata": {
    "vscode": {
     "languageId": "shellscript"
    }
   },
   "outputs": [],
   "source": [
    "!pip install -i https://test.pypi.org/simple/ vantage-sdk==0.0.12 -qU"
   ]
  },
  {
   "cell_type": "code",
   "execution_count": 7,
   "metadata": {
    "vscode": {
     "languageId": "shellscript"
    }
   },
   "outputs": [],
   "source": [
    "!pip install langchain langchain-openai -qU"
   ]
  },
  {
   "cell_type": "markdown",
   "metadata": {},
   "source": [
    "### LangChain VectorStore Preparation\n",
    "\n",
    "- Initialization of the VantageClient\n",
    "- Initialization of the Embeddings object"
   ]
  },
  {
   "cell_type": "code",
   "execution_count": 14,
   "metadata": {},
   "outputs": [],
   "source": [
    "from vantage import VantageClient\n",
    "from langchain_openai import OpenAIEmbeddings\n",
    "\n",
    "vantage_client = VantageClient.using_jwt_token(\n",
    "    vantage_api_jwt_token=JWT,\n",
    "    account_id=\"jelena-dostic\",\n",
    "    api_host=\"https://api.dev-a.dev.vantagediscovery.com\",\n",
    ")\n",
    "\n",
    "langchain_embeddings = OpenAIEmbeddings(openai_api_key=OPENAI_KEY)"
   ]
  },
  {
   "cell_type": "markdown",
   "metadata": {},
   "source": [
    "Installation of the local LangChain library which includes Vantage vector store"
   ]
  },
  {
   "cell_type": "code",
   "execution_count": 9,
   "metadata": {
    "vscode": {
     "languageId": "shellscript"
    }
   },
   "outputs": [
    {
     "name": "stdout",
     "output_type": "stream",
     "text": [
      "Found existing installation: langchain-community 0.0.27\n",
      "Uninstalling langchain-community-0.0.27:\n",
      "  Successfully uninstalled langchain-community-0.0.27\n",
      "\u001b[31mERROR: pip's dependency resolver does not currently take into account all the packages that are installed. This behaviour is the source of the following dependency conflicts.\n",
      "langchain 0.1.11 requires langchain-community<0.1,>=0.0.25, but you have langchain-community 0.0.24 which is incompatible.\u001b[0m\u001b[31m\n",
      "\u001b[0m"
     ]
    }
   ],
   "source": [
    "!pip uninstall langchain-community -y\n",
    "!python -m pip install ../../../../../../../SmartCatLabs/langchain/libs/community -qU"
   ]
  },
  {
   "cell_type": "markdown",
   "metadata": {},
   "source": [
    "### Initialization of the Vantage vector store using LangChain\n",
    "- 1 - Vantage Managed Embeddings, using regular initialization\n",
    "- 2 - User Provided Embeddings, using class method from_texts\n",
    "- 3 - Initialize using existing collection (id)\n",
    "- 4 - Initialize using existing collection (collection object)\n",
    "- 5 - From documents"
   ]
  },
  {
   "cell_type": "code",
   "execution_count": 15,
   "metadata": {},
   "outputs": [],
   "source": [
    "from langchain_community.vectorstores.vantage import Vantage"
   ]
  },
  {
   "cell_type": "code",
   "execution_count": 16,
   "metadata": {},
   "outputs": [
    {
     "data": {
      "text/plain": [
       "[ExternalAPIKey(external_key_id='c9c205a2-feca-428a-bb70-d29583ae050a', account_id='jelena-dostic', external_key_created_date='2024-03-03T23:20:15', url=None, llm_provider='OpenAI', llm_secret='sk-YE**********************************************', state='Active')]"
      ]
     },
     "execution_count": 16,
     "metadata": {},
     "output_type": "execute_result"
    }
   ],
   "source": [
    "external_keys = vantage_client.get_external_api_keys()\n",
    "external_keys"
   ]
  },
  {
   "cell_type": "code",
   "execution_count": 17,
   "metadata": {},
   "outputs": [],
   "source": [
    "EXTERNAL_KEY_ID = \"c9c205a2-feca-428a-bb70-d29583ae050a\""
   ]
  },
  {
   "cell_type": "markdown",
   "metadata": {},
   "source": [
    "#### 1 - Vantage Managed Embeddings, Regular Initialization\n",
    "\n",
    "- Creating vector store, then adding texts and metadata using add_texts method"
   ]
  },
  {
   "cell_type": "code",
   "execution_count": 18,
   "metadata": {},
   "outputs": [
    {
     "data": {
      "text/plain": [
       "<langchain_community.vectorstores.vantage.Vantage at 0x1143edcf0>"
      ]
     },
     "execution_count": 18,
     "metadata": {},
     "output_type": "execute_result"
    }
   ],
   "source": [
    "COLLECTION_ID_VME = \"vme-ipynb\"\n",
    "\n",
    "vector_store_vme = Vantage(\n",
    "    client=vantage_client,\n",
    "    embedding=langchain_embeddings,\n",
    "    collection_id=COLLECTION_ID_VME,\n",
    "    embedding_dimension=EMBEDDING_DIMENSION,\n",
    "    user_provided_embeddings=False,\n",
    "    llm=LLM,\n",
    "    external_key_id=EXTERNAL_KEY_ID,\n",
    ")\n",
    "\n",
    "vector_store_vme"
   ]
  },
  {
   "cell_type": "code",
   "execution_count": 19,
   "metadata": {},
   "outputs": [
    {
     "data": {
      "text/plain": [
       "['982e3cd9-93bb-45a2-b5b9-6595af154f70',\n",
       " 'f2bfacfe-6fd7-4e05-a79d-226490108479',\n",
       " '55918511-0784-448b-972e-b4a5dc91d316']"
      ]
     },
     "execution_count": 19,
     "metadata": {},
     "output_type": "execute_result"
    }
   ],
   "source": [
    "ids = vector_store_vme.add_texts(TEXTS, METADATA)\n",
    "ids"
   ]
  },
  {
   "cell_type": "markdown",
   "metadata": {},
   "source": [
    "#### 2 - User Provided Embeddings, using class method from_texts\n",
    "\n",
    "- Texts and metadata are automatically added"
   ]
  },
  {
   "cell_type": "code",
   "execution_count": 29,
   "metadata": {},
   "outputs": [
    {
     "data": {
      "text/plain": [
       "<langchain_community.vectorstores.vantage.Vantage at 0x121b556f0>"
      ]
     },
     "execution_count": 29,
     "metadata": {},
     "output_type": "execute_result"
    }
   ],
   "source": [
    "COLLECTION_ID_UPE = \"upe-ipynb\"\n",
    "\n",
    "vector_store_upe = Vantage.from_texts(\n",
    "    texts=TEXTS,\n",
    "    embedding=langchain_embeddings,\n",
    "    metadatas=METADATA,\n",
    "    client=vantage_client,\n",
    "    collection_id=COLLECTION_ID_UPE,\n",
    "    embedding_dimension=EMBEDDING_DIMENSION,\n",
    "    user_provided_embeddings=True,\n",
    ")\n",
    "\n",
    "vector_store_upe"
   ]
  },
  {
   "cell_type": "markdown",
   "metadata": {},
   "source": [
    "#### 3 - Initialize using existing collection (id)"
   ]
  },
  {
   "cell_type": "code",
   "execution_count": 20,
   "metadata": {},
   "outputs": [
    {
     "data": {
      "text/plain": [
       "['cebdb511-4134-4238-ae38-4ef8b4964f6f',\n",
       " '6dbd1b78-9520-48ef-a8b1-06aee6c279a6',\n",
       " '20b25c63-f4f0-4165-a33c-e01eec759d05']"
      ]
     },
     "execution_count": 20,
     "metadata": {},
     "output_type": "execute_result"
    }
   ],
   "source": [
    "COLLECTION_ID_EXISTING_ID = \"existing-id-ipynb\"\n",
    "\n",
    "vector_store_existing_id = Vantage(\n",
    "    client=vantage_client,\n",
    "    embedding=langchain_embeddings,\n",
    "    collection_id=COLLECTION_ID_EXISTING_ID,\n",
    ")\n",
    "\n",
    "ids = vector_store_existing_id.add_texts(TEXTS, METADATA)\n",
    "ids"
   ]
  },
  {
   "cell_type": "markdown",
   "metadata": {},
   "source": [
    "#### 4 - Initialize using existing collection (collection object)"
   ]
  },
  {
   "cell_type": "code",
   "execution_count": 21,
   "metadata": {},
   "outputs": [
    {
     "data": {
      "text/plain": [
       "['51e79685-6992-4637-b6ea-83d5f592b836',\n",
       " '7f705706-94c8-4642-a864-4f1ee795dced',\n",
       " '223fa89b-94d7-42c9-9e09-854f8c30ba3e']"
      ]
     },
     "execution_count": 21,
     "metadata": {},
     "output_type": "execute_result"
    }
   ],
   "source": [
    "COLLECTION_ID_EXISTING_OBJ = \"existing-object-ipynb\"\n",
    "\n",
    "collection = vantage_client.get_collection(COLLECTION_ID_EXISTING_OBJ)\n",
    "\n",
    "vector_store_existing_obj = Vantage(\n",
    "    client=vantage_client,\n",
    "    embedding=langchain_embeddings,\n",
    "    collection=collection,\n",
    ")\n",
    "\n",
    "ids = vector_store_existing_obj.add_texts(TEXTS, METADATA)\n",
    "ids"
   ]
  },
  {
   "cell_type": "markdown",
   "metadata": {},
   "source": [
    "#### 5 - Initialize from documents"
   ]
  },
  {
   "cell_type": "code",
   "execution_count": 23,
   "metadata": {},
   "outputs": [
    {
     "data": {
      "text/plain": [
       "[Document(page_content='Ted goes to the gym and exercises three times a week during summer.', metadata={'planet': 'Earth', 'something_else': 'Some value'}),\n",
       " Document(page_content='Yuriko and Mina are going to Hawaii this summer.', metadata={'planet': 'Earth'}),\n",
       " Document(page_content='Many people eat cereal for breakfast.', metadata={'planet': 'Mars'})]"
      ]
     },
     "execution_count": 23,
     "metadata": {},
     "output_type": "execute_result"
    }
   ],
   "source": [
    "from langchain_core.documents import Document\n",
    "\n",
    "DOCUMENTS = [Document(page_content=text, metadata=meta) for text, meta in zip(TEXTS, METADATA)]\n",
    "DOCUMENTS"
   ]
  },
  {
   "cell_type": "code",
   "execution_count": 27,
   "metadata": {},
   "outputs": [
    {
     "data": {
      "text/plain": [
       "<langchain_community.vectorstores.vantage.Vantage at 0x121b54d30>"
      ]
     },
     "execution_count": 27,
     "metadata": {},
     "output_type": "execute_result"
    }
   ],
   "source": [
    "COLLECTION_ID_DOCUMENTS = \"documents-ipynb\"\n",
    "\n",
    "vector_store_from_documents = Vantage.from_documents(\n",
    "    documents=DOCUMENTS,\n",
    "    embedding=langchain_embeddings,\n",
    "    client=vantage_client,\n",
    "    collection_id=COLLECTION_ID_DOCUMENTS,\n",
    "    embedding_dimension=EMBEDDING_DIMENSION,\n",
    "    user_provided_embeddings=True,\n",
    ")\n",
    "\n",
    "vector_store_from_documents\n"
   ]
  },
  {
   "cell_type": "markdown",
   "metadata": {},
   "source": [
    "### Example with Document Loader"
   ]
  },
  {
   "cell_type": "code",
   "execution_count": 30,
   "metadata": {},
   "outputs": [
    {
     "data": {
      "text/plain": [
       "Document(page_content='166  Oh, little prince! Bit by bit I came to understand the secrets of your sad little life . . . For a long time you had found your only entertainment in the quiet pleasure of looking at the sunset. I learned that new detail on the morning of the fourth day, when you said to me:  \"I am very fond of sunsets. Come, let us go look at a sunset now.\"  \"But we must wait,\" I said.  \"Wait? For what?\"  \"For the sunset. We must wait until it is time.\"  At first you seemed to be very much surprised. And then you laughed to yourself. You said to me:  \"I am always thinking that I am at home!\"  Just so. Everybody knows that when it is noon in the United States the sun is setting over France.  If you could fly to France in one minute, you could go straight into the sunset, right from noon. Unfortunately, France is too far away for that. But on your tiny planet, my little prince, all you need do is move your chair a few steps. You can see the day end and the twilight falling whenever you like . . .  \"One day,\" you said to me, \"I saw the sunset forty-four times!\"  And a little later you added:  \"You know--one loves the sunset, when one is so sad . . .\"  \"Were you so sad, then?\" I asked, \"on the day of the forty-four sunsets?\"  But the little prince made no reply.          ', metadata={'source': '/Users/jelenadostic/Downloads/the_little_prince.pdf', 'page': 15})"
      ]
     },
     "execution_count": 30,
     "metadata": {},
     "output_type": "execute_result"
    }
   ],
   "source": [
    "from langchain.document_loaders.pdf import PyPDFLoader\n",
    "\n",
    "data = PyPDFLoader(file_path=\"...\")\n",
    "documents = data.load()\n",
    "documents[15]"
   ]
  },
  {
   "cell_type": "code",
   "execution_count": 31,
   "metadata": {},
   "outputs": [
    {
     "data": {
      "text/plain": [
       "<langchain_community.vectorstores.vantage.Vantage at 0x12274b220>"
      ]
     },
     "execution_count": 31,
     "metadata": {},
     "output_type": "execute_result"
    }
   ],
   "source": [
    "COLLECTION_ID_DOCUMENT_LOADER = \"document-loader-ipynb\"\n",
    "\n",
    "vector_store_document_loader = Vantage.from_documents(\n",
    "    documents=documents,\n",
    "    embedding=langchain_embeddings,\n",
    "    client=vantage_client,\n",
    "    collection_id=COLLECTION_ID_DOCUMENT_LOADER,\n",
    "    embedding_dimension=EMBEDDING_DIMENSION,\n",
    "    user_provided_embeddings=True,\n",
    ")\n",
    "\n",
    "vector_store_document_loader"
   ]
  },
  {
   "cell_type": "markdown",
   "metadata": {},
   "source": [
    "### Search Collections using LangChain vector store"
   ]
  },
  {
   "cell_type": "code",
   "execution_count": 6,
   "metadata": {},
   "outputs": [],
   "source": [
    "TEXT_QUERY = \"summer\"\n",
    "EMBEDDING_QUERY = langchain_embeddings.embed_query(text=TEXT_QUERY)"
   ]
  },
  {
   "cell_type": "code",
   "execution_count": null,
   "metadata": {},
   "outputs": [],
   "source": [
    "# TEXTS = [\n",
    "#     \"Ted goes to the gym and exercises three times a week during summer.\",\n",
    "#     \"Yuriko and Mina are going to Hawaii this summer.\",\n",
    "#     \"Many people eat cereal for breakfast.\",\n",
    "# ]\n",
    "\n",
    "# METADATA = [\n",
    "#     {\"planet\": \"Earth\", \"something_else\": \"Some value\"},\n",
    "#     {\"planet\": \"Earth\"},\n",
    "#     {\"planet\": \"Mars\"},\n",
    "# ]"
   ]
  },
  {
   "cell_type": "code",
   "execution_count": 12,
   "metadata": {},
   "outputs": [
    {
     "data": {
      "text/plain": [
       "[Document(page_content='51e79685-6992-4637-b6ea-83d5f592b836'),\n",
       " Document(page_content='7f705706-94c8-4642-a864-4f1ee795dced'),\n",
       " Document(page_content='223fa89b-94d7-42c9-9e09-854f8c30ba3e')]"
      ]
     },
     "execution_count": 12,
     "metadata": {},
     "output_type": "execute_result"
    }
   ],
   "source": [
    "# 1 - Similarity Search (Semantic Search) without filter\n",
    "query_resuts = vector_store_existing_obj.similarity_search(\n",
    "    query=TEXT_QUERY,\n",
    "    vantage_api_key=VANTAGE_API_KEY,\n",
    ")\n",
    "\n",
    "query_resuts"
   ]
  },
  {
   "cell_type": "code",
   "execution_count": 13,
   "metadata": {},
   "outputs": [
    {
     "data": {
      "text/plain": [
       "[Document(page_content='51e79685-6992-4637-b6ea-83d5f592b836'),\n",
       " Document(page_content='7f705706-94c8-4642-a864-4f1ee795dced'),\n",
       " Document(page_content='223fa89b-94d7-42c9-9e09-854f8c30ba3e')]"
      ]
     },
     "execution_count": 13,
     "metadata": {},
     "output_type": "execute_result"
    }
   ],
   "source": [
    "# 2 - Similarity Search by Vector (Embedding Search) without filter\n",
    "embedding_resuts = vector_store_existing_obj.similarity_search_by_vector(\n",
    "    embedding=EMBEDDING_QUERY,\n",
    "    vantage_api_key=VANTAGE_API_KEY,\n",
    ")\n",
    "\n",
    "embedding_resuts"
   ]
  },
  {
   "cell_type": "code",
   "execution_count": 14,
   "metadata": {},
   "outputs": [],
   "source": [
    "FILTER = '(planet:\"Mars\")'"
   ]
  },
  {
   "cell_type": "code",
   "execution_count": 17,
   "metadata": {},
   "outputs": [
    {
     "data": {
      "text/plain": [
       "[Document(page_content='223fa89b-94d7-42c9-9e09-854f8c30ba3e')]"
      ]
     },
     "execution_count": 17,
     "metadata": {},
     "output_type": "execute_result"
    }
   ],
   "source": [
    "# # 3 - Similarity Search (Semantic Search) with filter\n",
    "query_resuts_filter = vector_store_existing_obj.similarity_search(\n",
    "    query=TEXT_QUERY,\n",
    "    vantage_api_key=VANTAGE_API_KEY,\n",
    "    filter=FILTER,\n",
    ")\n",
    "\n",
    "query_resuts_filter"
   ]
  },
  {
   "cell_type": "code",
   "execution_count": 18,
   "metadata": {},
   "outputs": [
    {
     "data": {
      "text/plain": [
       "[Document(page_content='223fa89b-94d7-42c9-9e09-854f8c30ba3e')]"
      ]
     },
     "execution_count": 18,
     "metadata": {},
     "output_type": "execute_result"
    }
   ],
   "source": [
    "# # 4 - Similarity Search by Vector (Embedding Search) with filter\n",
    "embedding_resuts_filter = vector_store_existing_obj.similarity_search_by_vector(\n",
    "    embedding=EMBEDDING_QUERY,\n",
    "    vantage_api_key=VANTAGE_API_KEY,\n",
    "    filter=FILTER,\n",
    ")\n",
    "\n",
    "embedding_resuts_filter"
   ]
  },
  {
   "cell_type": "code",
   "execution_count": null,
   "metadata": {},
   "outputs": [],
   "source": []
  }
 ],
 "metadata": {
  "kernelspec": {
   "display_name": "langchain-jupyter",
   "language": "python",
   "name": "python3"
  },
  "language_info": {
   "codemirror_mode": {
    "name": "ipython",
    "version": 3
   },
   "file_extension": ".py",
   "mimetype": "text/x-python",
   "name": "python",
   "nbconvert_exporter": "python",
   "pygments_lexer": "ipython3",
   "version": "3.10.13"
  }
 },
 "nbformat": 4,
 "nbformat_minor": 2
}
