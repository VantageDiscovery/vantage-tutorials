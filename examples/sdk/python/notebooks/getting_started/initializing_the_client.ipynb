{
  "cells": [
    {
      "cell_type": "markdown",
      "metadata": {
        "id": "-t91wzcKTcOg"
      },
      "source": [
        "# Getting Started with Vantage: Initializing the Client\n",
        "\n",
        "Welcome to the first step of our [Getting Started with Vantage](https://github.com/VantageDiscovery/vantage-tutorials/tree/main/examples/sdk/python/notebooks/getting_started) series, where we embark on a journey to unlock the full potential of the Vantage Python SDK.\n",
        "\n",
        "In this example, we will guide you through the simple yet crucial process of setting up the Vantage client.\n",
        "\n",
        "[![Open In Colab](https://colab.research.google.com/assets/colab-badge.svg)](https://colab.research.google.com/github/VantageDiscovery/vantage-tutorials/blob/main/examples/sdk/python/notebooks/getting_started/initializing_the_client.ipynb)"
      ]
    },
    {
      "cell_type": "markdown",
      "metadata": {
        "id": "Y8hgkbz1gLH4"
      },
      "source": [
        "### ✅ Installation\n",
        "\n",
        "The first step involves installing the [Vantage](https://pypi.org/project/vantage-sdk/) package."
      ]
    },
    {
      "cell_type": "code",
      "execution_count": null,
      "metadata": {},
      "outputs": [],
      "source": [
        "! pip install vantage-sdk==0.7.0 -qU"
      ]
    },
    {
      "cell_type": "markdown",
      "metadata": {
        "id": "D1zAhbo_gLIE"
      },
      "source": [
        "As usual, let's import the necessary libraries.\n",
        "\n",
        "In this example we will need just the `os` library to load our environment variables:"
      ]
    },
    {
      "cell_type": "code",
      "execution_count": null,
      "metadata": {
        "id": "3sEopB8vgLIE"
      },
      "outputs": [],
      "source": [
        "import os"
      ]
    },
    {
      "cell_type": "markdown",
      "metadata": {
        "id": "QTCr5LcQW1rs"
      },
      "source": [
        "## ✅ Initializing the Client\n",
        "\n",
        "Within the Vantage SDK, you have the flexibility to initialize the client using three authentication methods:\n",
        "\n",
        "- **Recommended**:\n",
        "    - using Vantage API key\n",
        "\n",
        "- Alternatives:\n",
        "    - using Vantage client credentials\n",
        "    - using a JWT token\n",
        "\n",
        "The following cells will demonstrate all three methods, but keep in mind that authentication using **Vantage API key is the recommended approach**.\n",
        "\n",
        "Initially, it's required to specify your Account ID, along with the ***optional*** API and AUTH host addresses, which will be configured in the following cell.\n",
        "\n",
        "*Note*: You can find both your **Account ID** and **Vantage API key** on your Console UI once you are registered on [Vantage platform](https://console.vanta.ge/)."
      ]
    },
    {
      "cell_type": "code",
      "execution_count": null,
      "metadata": {
        "id": "9AuDbBtKYy1g"
      },
      "outputs": [],
      "source": [
        "ACCOUNT_ID = \"YOUR_ACCOUNT_ID\"\n",
        "API_HOST = \"https://api.dev-a.dev.vantagediscovery.com\"\n",
        "AUTH_HOST = \"https://vantage-dev.us.auth0.com\""
      ]
    },
    {
      "cell_type": "markdown",
      "metadata": {},
      "source": [
        "<a id='vantage_api_key'></a>\n",
        "### Recommended Method: *Using Vantage API Key*\n",
        "\n",
        "In this approach, we're using a Vantage API key as the authentication method, which is also the recommended method of doing so.\n",
        "\n",
        "You'll need to provide your Vantage API key in the cell below, which you can find on your Console UI, under **API Keys** tab, after you have created your [Vantage account](https://console.vanta.ge/). \n",
        "\n",
        "We're assigning it to an `VANTAGE_API_KEY` environment variable — a step you can replicate in your local environment to seamlessly use the rest of the code as demonstrated in this example."
      ]
    },
    {
      "cell_type": "code",
      "execution_count": null,
      "metadata": {},
      "outputs": [],
      "source": [
        "%env VANTAGE_API_KEY=YOUR_VANTAGE_API_KEY"
      ]
    },
    {
      "cell_type": "markdown",
      "metadata": {},
      "source": [
        "Now, you can use the `using_vantage_api_key` method to create a Vantage instance:"
      ]
    },
    {
      "cell_type": "code",
      "execution_count": null,
      "metadata": {},
      "outputs": [],
      "source": [
        "from vantage_sdk import VantageClient\n",
        "\n",
        "vantage_instance = VantageClient.using_vantage_api_key(\n",
        "    vantage_api_key=os.environ[\"VANTAGE_API_KEY\"],\n",
        "    account_id=ACCOUNT_ID,\n",
        "    api_host=API_HOST,\n",
        ")"
      ]
    },
    {
      "cell_type": "markdown",
      "metadata": {},
      "source": [
        "## 🔄 Alternative Client Initialization Methods"
      ]
    },
    {
      "cell_type": "markdown",
      "metadata": {
        "id": "ZWepbKgdXwFA"
      },
      "source": [
        "<a id='client_credentials'></a>\n",
        "### Alternative Method: *Using Client Credentials*\n",
        "\n",
        "In this approach, we're using client credentials as the authentication method. \n",
        "\n",
        "We're assigning them to two environment variables, same as above (`VANTAGE_CLIENT_ID` and `VANTAGE_CLIENT_SECRET`).\n",
        "\n",
        "You can find your Client credentials under **Account** tab on your Console UI, after you have created your [Vantage account](https://console.vanta.ge/). "
      ]
    },
    {
      "cell_type": "code",
      "execution_count": null,
      "metadata": {
        "id": "4kGdFJ6xbQ2M"
      },
      "outputs": [],
      "source": [
        "%env VANTAGE_API_CLIENT_ID=YOUR_VANTAGE_API_CLIENT_ID\n",
        "%env VANTAGE_API_CLIENT_SECRET=YOUR_VANTAGE_API_CLIENT_SECRET"
      ]
    },
    {
      "cell_type": "markdown",
      "metadata": {
        "id": "OpCYnWDIdKZF"
      },
      "source": [
        "Now, you can use the `using_client_credentials` method to create a Vantage instance:"
      ]
    },
    {
      "cell_type": "code",
      "execution_count": null,
      "metadata": {
        "id": "Yd4lT2vlX1qT"
      },
      "outputs": [],
      "source": [
        "from vantage_sdk import VantageClient\n",
        "\n",
        "vantage_instance = VantageClient.using_client_credentials(\n",
        "    vantage_client_id=os.environ[\"VANTAGE_API_CLIENT_ID\"],\n",
        "    vantage_client_secret=os.environ[\"VANTAGE_API_CLIENT_SECRET\"],\n",
        "    account_id=ACCOUNT_ID,\n",
        "    api_host=API_HOST,\n",
        "    auth_host=AUTH_HOST,\n",
        ")"
      ]
    },
    {
      "cell_type": "markdown",
      "metadata": {},
      "source": [
        "<a id='jwt_token'></a>\n",
        "### Alternative Method: *Using JWT Token*\n",
        "\n",
        "In this approach, we're using a JWT token as the authentication method, which you'll need to provide in the cell below. We're assigning it to an `VANTAGE_JWT_TOKEN` environment variable — a step you can replicate in your local environment to seamlessly use the rest of the code as demonstrated in this example."
      ]
    },
    {
      "cell_type": "code",
      "execution_count": null,
      "metadata": {},
      "outputs": [],
      "source": [
        "%env VANTAGE_JWT_TOKEN=YOUR_VANTAGE_JWT_TOKEN"
      ]
    },
    {
      "cell_type": "markdown",
      "metadata": {},
      "source": [
        "Now, you can use the `using_jwt_token` method to create a Vantage instance:"
      ]
    },
    {
      "cell_type": "code",
      "execution_count": null,
      "metadata": {},
      "outputs": [],
      "source": [
        "from vantage_sdk import VantageClient\n",
        "\n",
        "vantage_instance = VantageClient.using_jwt_token(\n",
        "    vantage_api_jwt_token=os.environ[\"VANTAGE_JWT_TOKEN\"],\n",
        "    account_id=ACCOUNT_ID,\n",
        "    api_host=API_HOST,\n",
        ")"
      ]
    },
    {
      "cell_type": "markdown",
      "metadata": {
        "id": "R3gfI6Rdsmcu"
      },
      "source": [
        "## 📌 Next Steps\n",
        "\n",
        "Congratulations! You've successfully initialized the Vantage client in your Python environment. You're now ready to explore the features and capabilities of the Vantage SDK.\n",
        "\n",
        "You can take a look at other notebooks from our [Getting Started with Vantage](https://github.com/VantageDiscovery/vantage-tutorials/tree/main/examples/sdk/python/notebooks/getting_started) series or continue using Vantage on your own.\n",
        "\n",
        "If you need some ideas, check our [Tutorials](https://docs.vantagediscovery.com/docs/tutorials), where you can find inspiration and best practices for using Vantage.\n",
        "\n",
        "Happy discovering! 🔎"
      ]
    }
  ],
  "metadata": {
    "colab": {
      "provenance": [],
      "toc_visible": true
    },
    "kernelspec": {
      "display_name": "Python 3",
      "name": "python3"
    },
    "language_info": {
      "codemirror_mode": {
        "name": "ipython",
        "version": 3
      },
      "file_extension": ".py",
      "mimetype": "text/x-python",
      "name": "python",
      "nbconvert_exporter": "python",
      "pygments_lexer": "ipython3",
      "version": "3.10.13"
    }
  },
  "nbformat": 4,
  "nbformat_minor": 0
}
