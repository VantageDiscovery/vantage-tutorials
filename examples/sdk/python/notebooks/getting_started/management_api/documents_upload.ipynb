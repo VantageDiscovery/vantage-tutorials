{
  "cells": [
    {
      "cell_type": "markdown",
      "metadata": {
        "id": "-t91wzcKTcOg"
      },
      "source": [
        "# Getting Started with Vantage: Documents Upload\n",
        "\n",
        "Welcome to the Documents Upload part of our [Getting Started with Vantage](https://github.com/VantageDiscovery/vantage-tutorials/tree/main/examples/sdk/python/notebooks/getting_started) series.\n",
        "\n",
        "An important part of the Vantage platform is the data ingestion process, where collections are populated with documents. To ingest your data, you can use our Console UI to upload it in [Parquet format](https://docs.vantagediscovery.com/docs/vantage-parquet-format), or you can utilize our SDK and upload it in [JSONL format](https://docs.vantagediscovery.com/docs/vantage-jsonl-format), which is described in the following cells.\n",
        "\n",
        "[![Open In Colab](https://colab.research.google.com/assets/colab-badge.svg)](https://colab.research.google.com/github/VantageDiscovery/vantage-tutorials/blob/main/examples/sdk/python/notebooks/getting_started/management_api/documents_upload.ipynb)"
      ]
    },
    {
      "cell_type": "markdown",
      "metadata": {},
      "source": [
        "### ✅ Installation\n",
        "\n",
        "The first step involves installing the [Vantage](https://pypi.org/project/vantage-sdk/) package."
      ]
    },
    {
      "cell_type": "code",
      "execution_count": null,
      "metadata": {},
      "outputs": [],
      "source": [
        "! pip install vantage-sdk -qU"
      ]
    },
    {
      "cell_type": "markdown",
      "metadata": {},
      "source": [
        "As usual, let's import the necessary libraries.\n",
        "\n",
        "In this example we will need just the `os` library to load our environment variables:"
      ]
    },
    {
      "cell_type": "code",
      "execution_count": null,
      "metadata": {},
      "outputs": [],
      "source": [
        "import os"
      ]
    },
    {
      "cell_type": "markdown",
      "metadata": {},
      "source": [
        "### ✅ Initialization\n",
        "\n",
        "In this example, we will authenticate using a Vantage API Key.\n",
        "For additional details on initializing the Vantage client, refer to the [notebook](../initializing_the_client.ipynb) that covers this topic first.\n",
        "\n",
        "Please update the following two cells with the appropriate values."
      ]
    },
    {
      "cell_type": "code",
      "execution_count": null,
      "metadata": {},
      "outputs": [],
      "source": [
        "ACCOUNT_ID = \"YOUR_ACCOUNT_ID\"\n",
        "API_HOST = \"https://api.dev-a.dev.vantagediscovery.com\""
      ]
    },
    {
      "cell_type": "code",
      "execution_count": null,
      "metadata": {},
      "outputs": [],
      "source": [
        "%env VANTAGE_API_KEY=VANTAGE_API_KEY"
      ]
    },
    {
      "cell_type": "code",
      "execution_count": null,
      "metadata": {},
      "outputs": [],
      "source": [
        "from vantage_sdk import VantageClient\n",
        "\n",
        "vantage_instance = VantageClient.using_vantage_api_key(\n",
        "    vantage_api_key=os.environ[\"VANTAGE_API_KEY\"],\n",
        "    account_id=ACCOUNT_ID,\n",
        "    api_host=API_HOST,\n",
        ")"
      ]
    },
    {
      "cell_type": "markdown",
      "metadata": {
        "id": "QWv5vAd68M9M"
      },
      "source": [
        "### ✅ Documents Upload\n",
        "\n",
        "In order to successfully upload your documents, they need to follow the [Vantage Ingestion format](https://docs.vantagediscovery.com/docs/vantage-ingest-format), you can read more on that on our documentation. \n",
        "\n",
        "In this example we are going to upload JSONL documents to our UPE (User-provided embeddings) collection, which we are going to create in the following cell."
      ]
    },
    {
      "cell_type": "code",
      "execution_count": null,
      "metadata": {},
      "outputs": [],
      "source": [
        "EMBEDDINGS_DIMENSION = 3\n",
        "COLLECTION_ID = \"documents-upload-notebook\"\n",
        "\n",
        "collection = vantage_instance.create_collection(\n",
        "    collection_id=COLLECTION_ID,\n",
        "    embeddings_dimension=EMBEDDINGS_DIMENSION,\n",
        "    user_provided_embeddings=True,\n",
        ")"
      ]
    },
    {
      "cell_type": "markdown",
      "metadata": {
        "id": "4yExc1mf8M9M"
      },
      "source": [
        "#### Upload Documents from JSONL\n",
        "\n",
        "- As mentioned, documents must adhere to a specific format. In the following cell, we provide an example. We will create three documents with embeddings of size `EMBEDDINGS_DIMENSION` to match our previously created collection."
      ]
    },
    {
      "cell_type": "code",
      "execution_count": null,
      "metadata": {},
      "outputs": [],
      "source": [
        "documents_list = [\n",
        "    {\"id\": \"1\", \"text\": \"Example text\", \"meta_color\": \"green\", \"embeddings\": [1,2,3]},\n",
        "    {\"id\": \"2\", \"text\": \"Sample text\", \"meta_color\": \"blue\", \"embeddings\": [4,5,6]},\n",
        "]"
      ]
    },
    {
      "cell_type": "code",
      "execution_count": null,
      "metadata": {},
      "outputs": [],
      "source": [
        "import json\n",
        "\n",
        "DOCUMENTS_JSONL = \"\\n\".join(map(json.dumps, [doc for doc in documents_list]))"
      ]
    },
    {
      "cell_type": "code",
      "execution_count": 7,
      "metadata": {
        "id": "vCC48OjS8M9M"
      },
      "outputs": [],
      "source": [
        "vantage_instance.upload_documents_from_jsonl(\n",
        "    collection_id=COLLECTION_ID,\n",
        "    documents=DOCUMENTS_JSONL,\n",
        ")"
      ]
    },
    {
      "cell_type": "markdown",
      "metadata": {
        "id": "hc7Si7mEbDES"
      },
      "source": [
        "#### Upload Documents from path\n",
        "\n",
        "- Another scenario involves uploading your data using a file. In this case, you must ensure your data is properly formatted in the file before uploading it. We will demonstrate this by writing our `documents_list` to a JSONL file and using the Python SDK function to upload it."
      ]
    },
    {
      "cell_type": "code",
      "execution_count": null,
      "metadata": {},
      "outputs": [],
      "source": [
        "import json\n",
        "\n",
        "DOCUMENTS_FILE_PATH = \"vantage_documents.jsonl\"\n",
        "\n",
        "with open(DOCUMENTS_FILE_PATH, \"w\") as documents_file:\n",
        "    for doc in documents_list:\n",
        "        json.dump(doc, documents_file)\n",
        "        documents_file.write('\\n')"
      ]
    },
    {
      "cell_type": "code",
      "execution_count": 8,
      "metadata": {
        "id": "ASXGq8-Ga9mv"
      },
      "outputs": [],
      "source": [
        "vantage_instance.upload_documents_from_path(\n",
        "    collection_id=COLLECTION_ID,\n",
        "    file_path=DOCUMENTS_FILE_PATH,\n",
        ")"
      ]
    },
    {
      "cell_type": "markdown",
      "metadata": {},
      "source": [
        "After running the cells above, you can check your collection, identified by `COLLECTION_ID`, on the Console UI to make sure it's in the `Indexing` status. After few minutes, you will be able to query it and try our search capabilities. For that you can check our [Search API notebooks](https://github.com/VantageDiscovery/vantage-tutorials/tree/main/examples/sdk/python/notebooks/getting_started/search_api), or visit our [documentation](https://docs.vantagediscovery.com/docs/search) for more information."
      ]
    },
    {
      "cell_type": "markdown",
      "metadata": {
        "id": "QTCr5LcQW1rs"
      },
      "source": [
        "## 📌 Next Steps\n",
        "\n",
        "You are now familiar with the Document Upload endpoints! \n",
        "\n",
        "You can take a look at other notebooks from our [Getting Started with Vantage](https://github.com/VantageDiscovery/vantage-tutorials/tree/main/examples/sdk/python/notebooks/getting_started) series or continue using Vantage on your own.\n",
        "\n",
        "If you need some ideas, check our [Tutorials](https://docs.vantagediscovery.com/docs/tutorials), where you can find inspiration and best practices for using Vantage.\n",
        "\n",
        "Happy discovering! 🔎\n",
        "\n"
      ]
    }
  ],
  "metadata": {
    "colab": {
      "provenance": [],
      "toc_visible": true
    },
    "kernelspec": {
      "display_name": "Python 3",
      "name": "python3"
    },
    "language_info": {
      "name": "python"
    }
  },
  "nbformat": 4,
  "nbformat_minor": 0
}
