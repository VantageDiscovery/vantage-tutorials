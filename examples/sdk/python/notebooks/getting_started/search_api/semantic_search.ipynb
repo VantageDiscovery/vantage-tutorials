{
  "cells": [
    {
      "cell_type": "markdown",
      "metadata": {
        "id": "-t91wzcKTcOg"
      },
      "source": [
        "# Getting Started with Vantage: Semantic Search\n",
        "\n",
        "Welcome to the Semantic Search part of our [Getting Started with Vantage](https://github.com/VantageDiscovery/vantage-tutorials/tree/main/examples/sdk/python/notebooks/getting_started) series.\n",
        "\n",
        "This notebook will demonstrate the semantic search capabilities provided by the Vantage SDK and guide you on how to use them effectively.\n",
        "\n",
        "[![Open In Colab](https://colab.research.google.com/assets/colab-badge.svg)](https://colab.research.google.com/github/VantageDiscovery/vantage-tutorials/blob/main/examples/sdk/python/notebooks/getting_started/search_api/semantic_search.ipynb)"
      ]
    },
    {
      "cell_type": "markdown",
      "metadata": {},
      "source": [
        "### ✅ Installation\n",
        "\n",
        "The first step involves installing the [Vantage](https://pypi.org/project/vantage-sdk/) package."
      ]
    },
    {
      "cell_type": "code",
      "execution_count": null,
      "metadata": {},
      "outputs": [],
      "source": [
        "! pip install vantage-sdk -qU"
      ]
    },
    {
      "cell_type": "markdown",
      "metadata": {},
      "source": [
        "As usual, let's import the necessary libraries.\n",
        "\n",
        "In this example we will need just the `os` library to load our environment variables:"
      ]
    },
    {
      "cell_type": "code",
      "execution_count": 1,
      "metadata": {},
      "outputs": [],
      "source": [
        "import os"
      ]
    },
    {
      "cell_type": "markdown",
      "metadata": {},
      "source": [
        "### ✅ Initialization\n",
        "\n",
        "In this example, we will authenticate using a Vantage API Key.\n",
        "For additional details on initializing the Vantage client, refer to the [notebook](../initializing_the_client.ipynb) that covers this topic first.\n",
        "\n",
        "Please update the following two cells with the appropriate values."
      ]
    },
    {
      "cell_type": "code",
      "execution_count": 2,
      "metadata": {},
      "outputs": [],
      "source": [
        "ACCOUNT_ID = \"YOUR_ACCOUNT_ID\"\n",
        "API_HOST = \"https://api.dev-a.dev.vantagediscovery.com\""
      ]
    },
    {
      "cell_type": "code",
      "execution_count": null,
      "metadata": {},
      "outputs": [],
      "source": [
        "%env VANTAGE_API_KEY=VANTAGE_API_KEY"
      ]
    },
    {
      "cell_type": "code",
      "execution_count": 4,
      "metadata": {},
      "outputs": [],
      "source": [
        "from vantage_sdk import VantageClient\n",
        "\n",
        "vantage_instance = VantageClient.using_vantage_api_key(\n",
        "    vantage_api_key=os.environ[\"VANTAGE_API_KEY\"],\n",
        "    account_id=ACCOUNT_ID,\n",
        "    api_host=API_HOST,\n",
        ")"
      ]
    },
    {
      "cell_type": "markdown",
      "metadata": {
        "id": "_fMrQTRHW0OA"
      },
      "source": [
        "## ✅ Semantic Search\n",
        "\n",
        "To perform our Semantic Search, we will first create a sample collection and upload some sample data to it, which we will then search over later.\n",
        "\n",
        "To perform semantic search, we need to create a Vantage-managed embeddings collection, as User-provided collections do not support it."
      ]
    },
    {
      "cell_type": "code",
      "execution_count": 18,
      "metadata": {},
      "outputs": [],
      "source": [
        "COLLECTION_ID = \"semantic-search-vme-collection\"\n",
        "EMBEDDINGS_DIMENSION = 1536\n",
        "\n",
        "collection = vantage_instance.create_collection(\n",
        "    collection_id=COLLECTION_ID,\n",
        "    embeddings_dimension=EMBEDDINGS_DIMENSION,\n",
        "    user_provided_embeddings=False,\n",
        "    llm=\"text-embedding-ada-002\",\n",
        "    external_key_id=\"d60b903e-4e56-464a-a997-6a3da1fac4f8\"\n",
        ")"
      ]
    },
    {
      "cell_type": "code",
      "execution_count": 19,
      "metadata": {},
      "outputs": [],
      "source": [
        "sample_documents = [\n",
        "    {\"id\": \"first_doc\", \"text\": \"Water boils at 100 degrees Celsius under standard atmospheric conditions, turning from a liquid to a gas.\"},\n",
        "    {\"id\": \"second_doc\", \"text\": \"Eating a diet rich in fruits and vegetables is linked to a reduced risk of many lifestyle-related health conditions.\"},\n",
        "    {\"id\": \"third_doc\", \"text\": \"Polar bears primarily live in the Arctic Circle, surrounded by sea ice from which they hunt seals.\"},\n",
        "    {\"id\": \"fourth_doc\", \"text\": \"The Great Wall of China, built between the 5th century BC and the 16th century, is over 13,000 miles long.\"},\n",
        "]"
      ]
    },
    {
      "cell_type": "code",
      "execution_count": 20,
      "metadata": {},
      "outputs": [],
      "source": [
        "import json\n",
        "\n",
        "DOCUMENTS_JSONL = \"\\n\".join(map(json.dumps, [doc for doc in sample_documents]))"
      ]
    },
    {
      "cell_type": "code",
      "execution_count": 21,
      "metadata": {},
      "outputs": [],
      "source": [
        "vantage_instance.upload_documents_from_jsonl(\n",
        "    collection_id=COLLECTION_ID,\n",
        "    documents=DOCUMENTS_JSONL,\n",
        ")"
      ]
    },
    {
      "cell_type": "markdown",
      "metadata": {},
      "source": [
        "We are now able to perform searches over our collection once it has been created and populated with data. We are creating `QUERY_TEXT`, which should match our fourth document, since we are asking a question and the answer is present in that document."
      ]
    },
    {
      "cell_type": "code",
      "execution_count": 23,
      "metadata": {},
      "outputs": [],
      "source": [
        "QUERY_TEXT = \"How long is the Great Wall of China?\"\n",
        "\n",
        "response = vantage_instance.semantic_search(\n",
        "    collection_id=COLLECTION_ID,\n",
        "    text=QUERY_TEXT,\n",
        ")"
      ]
    },
    {
      "cell_type": "code",
      "execution_count": 24,
      "metadata": {},
      "outputs": [
        {
          "name": "stdout",
          "output_type": "stream",
          "text": [
            "id='fourth_doc' score=0.955161452293396\n",
            "id='first_doc' score=0.8515287041664124\n",
            "id='third_doc' score=0.8513298034667969\n"
          ]
        }
      ],
      "source": [
        "for res in response.results:\n",
        "    print(res)"
      ]
    },
    {
      "cell_type": "markdown",
      "metadata": {},
      "source": [
        "We can see from returned results that the fourth document - describing the Great Wall of China - is the most similar to our question, since it has the highest score returned, which is correct! \n",
        "\n",
        "Semantic search becomes much more powerful when you have more data and more context and you can use it in different domains such as e-commerce, customer support, legal and healthcare document retrieval, recruitment and more!"
      ]
    },
    {
      "cell_type": "markdown",
      "metadata": {
        "id": "QTCr5LcQW1rs"
      },
      "source": [
        "## 📌 Next Steps\n",
        "\n",
        "You are now familiar with the Semantic Search with Vantage! \n",
        "\n",
        "You can take a look at other notebooks from our [Getting Started with Vantage](https://github.com/VantageDiscovery/vantage-tutorials/tree/main/examples/sdk/python/notebooks/getting_started) series or continue using Vantage on your own.\n",
        "\n",
        "If you need some ideas, check our [Tutorials](https://docs.vantagediscovery.com/docs/tutorials), where you can find inspiration and best practices for using Vantage.\n",
        "\n",
        "Happy discovering! 🔎\n"
      ]
    }
  ],
  "metadata": {
    "colab": {
      "provenance": [],
      "toc_visible": true
    },
    "kernelspec": {
      "display_name": "Python 3",
      "name": "python3"
    },
    "language_info": {
      "codemirror_mode": {
        "name": "ipython",
        "version": 3
      },
      "file_extension": ".py",
      "mimetype": "text/x-python",
      "name": "python",
      "nbconvert_exporter": "python",
      "pygments_lexer": "ipython3",
      "version": "3.10.13"
    }
  },
  "nbformat": 4,
  "nbformat_minor": 0
}
