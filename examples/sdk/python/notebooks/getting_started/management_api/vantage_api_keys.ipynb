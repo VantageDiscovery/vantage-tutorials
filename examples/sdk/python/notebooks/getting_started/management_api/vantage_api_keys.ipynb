{
  "cells": [
    {
      "cell_type": "markdown",
      "metadata": {
        "id": "-t91wzcKTcOg"
      },
      "source": [
        "# Getting Started with Vantage: Vantage API Keys\n",
        "\n",
        "Welcome to the Vantage API Keys part of our [Getting Started with Vantage](https://github.com/VantageDiscovery/vantage-tutorials/tree/main/examples/sdk/python/notebooks/getting_started) series.\n",
        "\n",
        "Vantage API Keys are used during collection querying. For a detailed guide on their application, refer to the notebooks in the [Search](https://github.com/VantageDiscovery/vantage-tutorials/tree/main/examples/sdk/python/notebooks/getting_started/search_api) section.\n",
        "\n",
        "This notebook will demonstrate the Vantage API keys endpoints provided by the Vantage SDK and guide you on how to use them effectively.\n",
        "\n",
        "Let's start!\n",
        "\n",
        "[![Open In Colab](https://colab.research.google.com/assets/colab-badge.svg)](https://colab.research.google.com/github/VantageDiscovery/vantage-tutorials/blob/main/examples/sdk/python/notebooks/getting_started/management_api/vantage_api_keys.ipynb)"
      ]
    },
    {
      "cell_type": "markdown",
      "metadata": {},
      "source": [
        "### ✅ Installation\n",
        "\n",
        "The first step involves installing the [Vantage](https://pypi.org/project/vantage-sdk/) package."
      ]
    },
    {
      "cell_type": "code",
      "execution_count": null,
      "metadata": {},
      "outputs": [],
      "source": [
        "! pip install vantage-sdk==0.7.0 -qU"
      ]
    },
    {
      "cell_type": "markdown",
      "metadata": {},
      "source": [
        "As usual, let's import the necessary libraries.\n",
        "\n",
        "In this example we will need just the `os` library to load our environment variables:"
      ]
    },
    {
      "cell_type": "code",
      "execution_count": null,
      "metadata": {},
      "outputs": [],
      "source": [
        "import os"
      ]
    },
    {
      "cell_type": "markdown",
      "metadata": {},
      "source": [
        "### ✅ Initialization\n",
        "\n",
        "In this example, we will authenticate using a Vantage API Key.\n",
        "For additional details on initializing the Vantage client, refer to the [notebook](../initializing_the_client.ipynb) that covers this topic first.\n",
        "\n",
        "Please update the following two cells with the appropriate values."
      ]
    },
    {
      "cell_type": "code",
      "execution_count": null,
      "metadata": {},
      "outputs": [],
      "source": [
        "ACCOUNT_ID = \"YOUR_ACCOUNT_ID\"\n",
        "API_HOST = \"https://api.dev-a.dev.vantagediscovery.com\""
      ]
    },
    {
      "cell_type": "code",
      "execution_count": null,
      "metadata": {},
      "outputs": [],
      "source": [
        "%env VANTAGE_API_KEY=VANTAGE_API_KEY"
      ]
    },
    {
      "cell_type": "code",
      "execution_count": null,
      "metadata": {},
      "outputs": [],
      "source": [
        "from vantage_sdk import VantageClient\n",
        "\n",
        "vantage_instance = VantageClient.using_vantage_api_key(\n",
        "    vantage_api_key=os.environ[\"VANTAGE_API_KEY\"],\n",
        "    account_id=ACCOUNT_ID,\n",
        "    api_host=API_HOST,\n",
        ")"
      ]
    },
    {
      "cell_type": "markdown",
      "metadata": {
        "id": "g7wt9P3I8f9G"
      },
      "source": [
        "### ✅ Vantage API Keys\n",
        "\n",
        "The Vantage API Keys API enables the listing of your Vantage API keys."
      ]
    },
    {
      "cell_type": "markdown",
      "metadata": {
        "id": "GRMIuHb38f9H"
      },
      "source": [
        "#### Get All Vantage Keys\n",
        "\n",
        "- Easily access all your Vantage API keys by calling `get_vantage_api_keys` method."
      ]
    },
    {
      "cell_type": "code",
      "execution_count": null,
      "metadata": {
        "colab": {
          "base_uri": "https://localhost:8080/"
        },
        "id": "OBhsP7kp8f9H",
        "outputId": "e26fbb21-d9e8-42ad-bd1c-a05e675d2a40"
      },
      "outputs": [],
      "source": [
        "vantage_keys = vantage_instance.get_vantage_api_keys()\n",
        "vantage_keys"
      ]
    },
    {
      "cell_type": "markdown",
      "metadata": {
        "id": "wjvV46sx8f9H"
      },
      "source": [
        "#### Get One Vantage Key\n",
        "\n",
        "- Easily access your vantage API key by providing its `vantage_api_key_id`."
      ]
    },
    {
      "cell_type": "code",
      "execution_count": null,
      "metadata": {
        "colab": {
          "base_uri": "https://localhost:8080/"
        },
        "id": "vqqtfPnA8f9H",
        "outputId": "9c3efcb3-f8e1-488d-dd15-6c974c1b3cac"
      },
      "outputs": [],
      "source": [
        "vantage_api_key_id = \"YOUR_VANTAGE_API_KEY_ID\"\n",
        "\n",
        "vantage_key = vantage_instance.get_vantage_api_key(\n",
        "    vantage_api_key_id = vantage_api_key_id\n",
        ")\n",
        "\n",
        "vantage_key"
      ]
    },
    {
      "cell_type": "markdown",
      "metadata": {
        "id": "QTCr5LcQW1rs"
      },
      "source": [
        "## 📌 Next Steps\n",
        "\n",
        "You are now familiar with the Vantage API Keys endpoints! \n",
        "\n",
        "You can take a look at other notebooks from our [Getting Started with Vantage](https://github.com/VantageDiscovery/vantage-tutorials/tree/main/examples/sdk/python/notebooks/getting_started) series or continue using Vantage on your own.\n",
        "\n",
        "If you need some ideas, check our [Tutorials](https://docs.vantagediscovery.com/docs/tutorials), where you can find inspiration and best practices for using Vantage.\n",
        "\n",
        "Happy discovering! 🔎\n"
      ]
    }
  ],
  "metadata": {
    "colab": {
      "provenance": [],
      "toc_visible": true
    },
    "kernelspec": {
      "display_name": "Python 3",
      "name": "python3"
    },
    "language_info": {
      "name": "python"
    }
  },
  "nbformat": 4,
  "nbformat_minor": 0
}
