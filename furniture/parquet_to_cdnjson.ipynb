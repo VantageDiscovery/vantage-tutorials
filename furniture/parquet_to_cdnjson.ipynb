{
 "cells": [
  {
   "cell_type": "code",
   "execution_count": null,
   "id": "09e6e91f-103f-44f9-85b6-7461f698a3d1",
   "metadata": {},
   "outputs": [],
   "source": [
    "import os\n",
    "import json\n",
    "import pandas as pd\n",
    "\n",
    "# Load your DataFrame here\n",
    "df = pd.read_parquet('./vantage_furniture_tutorial.parquet')\n",
    "\n",
    "# Create the directory 'public' if it doesn't exist\n",
    "output_dir = './public'\n",
    "os.makedirs(output_dir, exist_ok=True)"
   ]
  },
  {
   "cell_type": "code",
   "execution_count": null,
   "id": "9588efb0-212a-4ff5-9eca-3c1fce771ebc",
   "metadata": {},
   "outputs": [],
   "source": [
    "# Items\n",
    "# Iterate through the DataFrame and write each row to a separate JSON file\n",
    "for index, row in df.iterrows():\n",
    "    # Convert NaN values to None\n",
    "    row_cleaned = row.where(pd.notnull(row), None)\n",
    "    \n",
    "    # Constructing the file name\n",
    "    file_name = os.path.join(output_dir, f\"{row_cleaned['id']}.json\")\n",
    "    \n",
    "    # Convert the row to a dictionary and write to a JSON file\n",
    "    with open(file_name, 'w') as file:\n",
    "        json.dump(row_cleaned.to_dict(), file)"
   ]
  },
  {
   "cell_type": "code",
   "execution_count": null,
   "id": "fdd626b1-00cc-4a01-9228-f56ed827fb56",
   "metadata": {},
   "outputs": [],
   "source": [
    "# Filters\n",
    "# Adjusting the function to create the JSON file in the accessible directory\n",
    "def create_json_file(df, column_name):\n",
    "    # Generate the nice, init upper cased without underscores version of the column name\n",
    "    nice_name = column_name.replace(\"meta_\", \"\").replace(\"_\", \" \").title()\n",
    "    slug = column_name.replace(\"meta_\", \"\")\n",
    "    \n",
    "    # Find distinct values in the column\n",
    "    distinct_values = df[column_name].dropna().unique()\n",
    "    \n",
    "    # Create JSON data\n",
    "    json_data = [\n",
    "        {\n",
    "            \"name\": value,\n",
    "            \"slug\": value,\n",
    "            \"categoryName\": nice_name,\n",
    "            \"categorySlug\": slug,\n",
    "            \"count\": df[df[column_name] == value].shape[0]\n",
    "        }\n",
    "        for value in distinct_values\n",
    "    ]\n",
    "    \n",
    "    # Write to file\n",
    "    file_path = \"public/\" + column_name + \".json\"\n",
    "    with open(file_path, 'w') as file:\n",
    "        json.dump(json_data, file, indent=4)\n",
    "    \n",
    "    return file_path\n",
    "\n",
    "# Creating JSON files for each column with 'meta_' prefix\n",
    "json_files = [create_json_file(df, column) for column in df.columns if column.startswith('meta_')]"
   ]
  }
 ],
 "metadata": {
  "kernelspec": {
   "display_name": "Python 3 (ipykernel)",
   "language": "python",
   "name": "python3"
  },
  "language_info": {
   "codemirror_mode": {
    "name": "ipython",
    "version": 3
   },
   "file_extension": ".py",
   "mimetype": "text/x-python",
   "name": "python",
   "nbconvert_exporter": "python",
   "pygments_lexer": "ipython3",
   "version": "3.9.6"
  }
 },
 "nbformat": 4,
 "nbformat_minor": 5
}
