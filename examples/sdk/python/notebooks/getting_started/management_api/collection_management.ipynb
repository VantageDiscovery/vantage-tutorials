{
  "cells": [
    {
      "cell_type": "markdown",
      "metadata": {
        "id": "-t91wzcKTcOg"
      },
      "source": [
        "# Getting Started with Vantage: Collection Management\n",
        "\n",
        "Welcome to the Collection Management part of our [Getting Started with Vantage](https://github.com/VantageDiscovery/vantage-tutorials/tree/main/examples/sdk/python/notebooks/getting_started) series.\n",
        "\n",
        "A Collection is the fundamental object in the Vantage platform that enables you to organize, manage, and search your data sets within the platform.\n",
        "\n",
        "Your data records, called documents, are ingested into a collection. Your search queries run against a collection. We currently support text data in collections, but we will soon support other types of data as well.\n",
        "\n",
        "When creating a collection, you give it an ID, a name, and specify some parameters for the AI model that will be used to embed your collection data.\n",
        "\n",
        "You can create many collections in your account to separate your different data sets that you want to search against.\n",
        "\n",
        "Let's see how we can leverage these functionalities using our SDK!\n",
        "\n",
        "[![Open In Colab](https://colab.research.google.com/assets/colab-badge.svg)](https://colab.research.google.com/github/VantageDiscovery/vantage-tutorials/blob/main/examples/sdk/python/notebooks/getting_started/management_api/collection_management.ipynb)"
      ]
    },
    {
      "cell_type": "markdown",
      "metadata": {},
      "source": [
        "### ✅ Installation\n",
        "\n",
        "The first step involves installing the [Vantage](https://pypi.org/project/vantage-sdk/) package."
      ]
    },
    {
      "cell_type": "code",
      "execution_count": null,
      "metadata": {},
      "outputs": [],
      "source": [
        "! pip install vantage-sdk -qU"
      ]
    },
    {
      "cell_type": "markdown",
      "metadata": {},
      "source": [
        "As usual, let's import the necessary libraries.\n",
        "\n",
        "In this example we will need just the `os` library to load our environment variables:"
      ]
    },
    {
      "cell_type": "code",
      "execution_count": null,
      "metadata": {},
      "outputs": [],
      "source": [
        "import os"
      ]
    },
    {
      "cell_type": "markdown",
      "metadata": {},
      "source": [
        "### ✅ Initialization\n",
        "\n",
        "In this example, we will authenticate using a Vantage API Key.\n",
        "For additional details on initializing the Vantage client, refer to the [notebook](../initializing_the_client.ipynb) that covers this topic first.\n",
        "\n",
        "Please update the following two cells with the appropriate values."
      ]
    },
    {
      "cell_type": "code",
      "execution_count": null,
      "metadata": {},
      "outputs": [],
      "source": [
        "ACCOUNT_ID = \"YOUR_ACCOUNT_ID\"\n",
        "API_HOST = \"https://api.dev-a.dev.vantagediscovery.com\""
      ]
    },
    {
      "cell_type": "code",
      "execution_count": null,
      "metadata": {},
      "outputs": [],
      "source": [
        "%env VANTAGE_API_KEY=VANTAGE_API_KEY"
      ]
    },
    {
      "cell_type": "code",
      "execution_count": null,
      "metadata": {},
      "outputs": [],
      "source": [
        "from vantage_sdk import VantageClient\n",
        "\n",
        "vantage_instance = VantageClient.using_vantage_api_key(\n",
        "    vantage_api_key=os.environ[\"VANTAGE_API_KEY\"],\n",
        "    account_id=ACCOUNT_ID,\n",
        "    api_host=API_HOST,\n",
        ")"
      ]
    },
    {
      "cell_type": "markdown",
      "metadata": {
        "id": "0JbjLc8ytZQB"
      },
      "source": [
        "### ✅ Collection Management\n",
        "\n",
        "The Collection Management API enables the listing of your collections, creation of new ones, updating existing collections, and deleting them.\n",
        "\n",
        "In the following cells, you will find more details on each of these functionalities."
      ]
    },
    {
      "cell_type": "markdown",
      "metadata": {
        "id": "W9OOK1y1td-3"
      },
      "source": [
        "#### Get All Collections\n",
        "\n",
        "- Easily access all your collections by calling `list_collections` method."
      ]
    },
    {
      "cell_type": "code",
      "execution_count": 7,
      "metadata": {
        "colab": {
          "base_uri": "https://localhost:8080/"
        },
        "id": "_4-OtgP2tjWG",
        "outputId": "87d9f35a-9dc6-4b08-bced-a768e7fcef32"
      },
      "outputs": [
        {
          "data": {
            "text/plain": [
              "[]"
            ]
          },
          "execution_count": 7,
          "metadata": {},
          "output_type": "execute_result"
        }
      ],
      "source": [
        "collections = vantage_instance.list_collections()\n",
        "collections"
      ]
    },
    {
      "cell_type": "markdown",
      "metadata": {
        "id": "cP7Fs9B9v5PG"
      },
      "source": [
        "#### Create Collection\n",
        "\n",
        "In Vantage, there are two types of collections you can create:\n",
        "- Vantage Managed Embeddings (VME), where embeddings are managed by Vantage, and\n",
        "- User-Provided Embeddings (UPE), where the user supplies the embeddings.\n",
        "\n",
        "For both types, it's necessary to supply parameters such as `collection_id`, `collection_name`, and `embedding_dimension`. Further details are provided below.\n",
        "\n",
        "- Collection ID\n",
        "     - A `collection_id` is used when using our API or Console to upload and search your data. The collection ID tells the Vantage platform which one of your collections you want to search. The ID must be unique within your account. There are a few rules when naming a collection ID:\n",
        "\n",
        "          - Characters: the colleciton ID can only contain lowercase letters [a-z], digits [0-9] and a hypen [-]\n",
        "          - Length: the maximum length for a colleciton ID is 36 characters\n",
        "          - Immutable: the collection ID can not be changed after the collection is created\n",
        "\n",
        "- Collection Name\n",
        "     - A `collection_name` is your easy and descriptive way to identify your different collections in the Console. There are a few rules when naming a collection:\n",
        "\n",
        "          - Length: the maximum length for a colleciton ID is 256 characters\n",
        "          - Mutable: the collection name can be renamed after the collection is created\n",
        "\n",
        "- Embedding Dimension\n",
        "     - The dimension of the embeddings used during the search. It must align with the embedding dimension specified for the chosen `llm` in the context of VME collections. In the case of UPE collections, it should match the dimensions of the embeddings provided by the user."
      ]
    },
    {
      "cell_type": "markdown",
      "metadata": {
        "id": "qMTXR94PsSRr"
      },
      "source": [
        "**Vantage Managed Embeddings (VME)**\n",
        "\n",
        "- By far the most common case is to have the Vantage platform manage the translation of your data to AI embeddings. This means that during ingestion and search, the Vantage platform will automate the translation of your data and search queries into embeddings to support semantic search. We call this Vantage Managed Embeddings (VME).\n",
        "- To use this option, you need to set `user_provided_embeddings` field to `False`, which is also a default option.\n",
        "\n",
        "- For VME collections you will be required to enter:\n",
        "\n",
        "     - LLM model (`llm`): Select or enter the name of the model that you'll use from your LLM provider.\n",
        "     - LLM API key (`external_key_id`): Your LLM provider API key. The Vantage platform securely stores and uses this key on your behalf to embed your data and your search queries."
      ]
    },
    {
      "cell_type": "markdown",
      "metadata": {
        "id": "S19jsGGb_OMf"
      },
      "source": [
        "First, let's get the `external_key_id`. For more details, check the [External API Keys notebook](https://github.com/VantageDiscovery/vantage-tutorials/blob/main/examples/sdk/python/notebooks/getting_started/management_api/external_api_keys.ipynb)."
      ]
    },
    {
      "cell_type": "code",
      "execution_count": 8,
      "metadata": {
        "colab": {
          "base_uri": "https://localhost:8080/"
        },
        "id": "2V9Hdrqc-s_Z",
        "outputId": "1393c616-812b-4554-a341-b10b1f9cc66e"
      },
      "outputs": [
        {
          "data": {
            "text/plain": [
              "[ExternalAPIKey(external_key_id='8bc8369f-14b5-47c7-9aa2-88150b42e6b5', account_id='jelena1', external_key_created_date='2024-02-13T11:18:54', url=None, llm_provider='OpenAI', llm_secret='sk-YE**********************************************')]"
            ]
          },
          "execution_count": 8,
          "metadata": {},
          "output_type": "execute_result"
        }
      ],
      "source": [
        "external_api_keys = vantage_instance.get_external_api_keys()\n",
        "external_api_keys"
      ]
    },
    {
      "cell_type": "markdown",
      "metadata": {
        "id": "w85t1xZP_uJn"
      },
      "source": [
        "Now, let's use it in our `create_collection` method."
      ]
    },
    {
      "cell_type": "code",
      "execution_count": 9,
      "metadata": {
        "colab": {
          "base_uri": "https://localhost:8080/"
        },
        "id": "xXcn7X3tsSRs",
        "outputId": "949460e6-b39b-4f05-e57a-7ba8488f4fa3"
      },
      "outputs": [
        {
          "data": {
            "text/plain": [
              "Collection(collection_created_time='2024-02-13T11:28:31', collection_status='Pending', collection_state='Active', collection_id='vantage-managed', user_provided_embeddings=False, llm='text-embedding-ada-002', embeddings_dimension=1536, external_key_id=None, collection_name='New Collection', collection_preview_url_pattern=None)"
            ]
          },
          "execution_count": 9,
          "metadata": {},
          "output_type": "execute_result"
        }
      ],
      "source": [
        "vme_collection_id = \"vantage-managed\"\n",
        "\n",
        "vme_collection = vantage_instance.create_collection(\n",
        "    collection_id = vme_collection_id,\n",
        "    collection_name = \"New Collection\",\n",
        "    embeddings_dimension= 1536,\n",
        "    user_provided_embeddings = False,\n",
        "    llm = \"text-embedding-ada-002\",\n",
        "    external_key_id= \"8bc8369f-14b5-47c7-9aa2-88150b42e6b5\"\n",
        ")\n",
        "\n",
        "vme_collection"
      ]
    },
    {
      "cell_type": "markdown",
      "metadata": {
        "id": "gHqIjKRowtoD"
      },
      "source": [
        "**User Provided Embeddings (UPE)**\n",
        "\n",
        "- A less common, but supported, option is for you to upload embeddings from the LLM of your choice into your collection. We call this User Provided Embeddings (UPE). When creating a collection with UPE, no additional LLM configuration is necessary.\n",
        "- To use this option, you need to set `user_provided_embeddings` field to `True`.\n",
        "\n",
        "- In this mode, instead of uploading text data, you embed your data yourself (could be text, image, etc) and send the embedding to the Vantage platform. You must also provide the embedding for every search query sent to the Vantage platform. The platform supports embedding dimension sizes up to 2048. If higher dimensions are needed, please contact support.\n",
        "\n",
        "> ❗ *The semantic search by text query endpoint will not be avaiable for UPE collections.*"
      ]
    },
    {
      "cell_type": "code",
      "execution_count": 10,
      "metadata": {
        "colab": {
          "base_uri": "https://localhost:8080/"
        },
        "id": "TPbR7wdiwdom",
        "outputId": "54ddf8ab-a44a-400c-ce69-e643dcc410e3"
      },
      "outputs": [
        {
          "data": {
            "text/plain": [
              "Collection(collection_created_time='2024-02-13T11:28:32', collection_status='Pending', collection_state='Active', collection_id='user-provided', user_provided_embeddings=True, llm=None, embeddings_dimension=1536, external_key_id=None, collection_name='New Collection', collection_preview_url_pattern=None)"
            ]
          },
          "execution_count": 10,
          "metadata": {},
          "output_type": "execute_result"
        }
      ],
      "source": [
        "upe_collection_id = \"user-provided\"\n",
        "\n",
        "upe_collection = vantage_instance.create_collection(\n",
        "    collection_id = upe_collection_id,\n",
        "    collection_name = \"New Collection\",\n",
        "    embeddings_dimension= 1536,\n",
        "    user_provided_embeddings = True\n",
        ")\n",
        "\n",
        "upe_collection"
      ]
    },
    {
      "cell_type": "markdown",
      "metadata": {
        "id": "J_pfS_vgvr-W"
      },
      "source": [
        "#### Get One Collection\n",
        "\n",
        "- Easily access your collection by providing its `collection_id`."
      ]
    },
    {
      "cell_type": "code",
      "execution_count": 11,
      "metadata": {
        "colab": {
          "base_uri": "https://localhost:8080/"
        },
        "id": "BH2OMGilvwaa",
        "outputId": "19c03725-649c-4425-b69a-cabed97198cb"
      },
      "outputs": [
        {
          "data": {
            "text/plain": [
              "Collection(collection_created_time='2024-02-13T11:28:31', collection_status='Pending', collection_state='Active', collection_id='vantage-managed', user_provided_embeddings=False, llm='text-embedding-ada-002', embeddings_dimension=1536, external_key_id=None, collection_name='New Collection', collection_preview_url_pattern=None)"
            ]
          },
          "execution_count": 11,
          "metadata": {},
          "output_type": "execute_result"
        }
      ],
      "source": [
        "collection = vantage_instance.get_collection(\n",
        "    collection_id = vme_collection_id\n",
        ")\n",
        "\n",
        "collection"
      ]
    },
    {
      "cell_type": "markdown",
      "metadata": {
        "id": "yMOhBG5u4NeA"
      },
      "source": [
        "#### Update Collection\n",
        "\n",
        "- Easily update your collection by providing its `collection_id` along with the specific fields you wish to update.\n",
        "  - Currently, it is possible to change the `collection_name`."
      ]
    },
    {
      "cell_type": "code",
      "execution_count": 12,
      "metadata": {
        "colab": {
          "base_uri": "https://localhost:8080/"
        },
        "id": "BM66o60R4Rgm",
        "outputId": "a9d43ecf-0df3-4730-908d-9c819671d298"
      },
      "outputs": [
        {
          "data": {
            "text/plain": [
              "Collection(collection_created_time='2024-02-13T11:28:31', collection_status='Pending', collection_state='Active', collection_id='vantage-managed', user_provided_embeddings=False, llm='text-embedding-ada-002', embeddings_dimension=1536, external_key_id=None, collection_name='Updated Collection Name', collection_preview_url_pattern=None)"
            ]
          },
          "execution_count": 12,
          "metadata": {},
          "output_type": "execute_result"
        }
      ],
      "source": [
        "updated_collection = vantage_instance.update_collection(\n",
        "    collection_id = vme_collection_id,\n",
        "    collection_name = \"Updated Collection Name\",\n",
        ")\n",
        "\n",
        "updated_collection"
      ]
    },
    {
      "cell_type": "markdown",
      "metadata": {
        "id": "hgUgzoUZ5H3R"
      },
      "source": [
        "#### Delete Collection\n",
        "\n",
        "- Easily delete your collection by providing its `collection_id`."
      ]
    },
    {
      "cell_type": "code",
      "execution_count": 14,
      "metadata": {
        "id": "-qroTc6E5KiW"
      },
      "outputs": [],
      "source": [
        "vantage_instance.delete_collection(\n",
        "    collection_id = vme_collection_id\n",
        ")"
      ]
    },
    {
      "cell_type": "markdown",
      "metadata": {
        "id": "QTCr5LcQW1rs"
      },
      "source": [
        "## 📌 Next Steps\n",
        "\n",
        "You are now familiar with the Collection Management endpoints! \n",
        "\n",
        "You can take a look at other notebooks from our [Getting Started with Vantage](https://github.com/VantageDiscovery/vantage-tutorials/tree/main/examples/sdk/python/notebooks/getting_started) series or continue using Vantage on your own.\n",
        "\n",
        "If you need some ideas, check our [Tutorials](https://docs.vantagediscovery.com/docs/tutorials), where you can find inspiration and best practices for using Vantage.\n",
        "\n",
        "Happy discovering! 🔎\n"
      ]
    }
  ],
  "metadata": {
    "colab": {
      "provenance": [],
      "toc_visible": true
    },
    "kernelspec": {
      "display_name": "Python 3",
      "name": "python3"
    },
    "language_info": {
      "codemirror_mode": {
        "name": "ipython",
        "version": 3
      },
      "file_extension": ".py",
      "mimetype": "text/x-python",
      "name": "python",
      "nbconvert_exporter": "python",
      "pygments_lexer": "ipython3",
      "version": "3.10.13"
    }
  },
  "nbformat": 4,
  "nbformat_minor": 0
}
