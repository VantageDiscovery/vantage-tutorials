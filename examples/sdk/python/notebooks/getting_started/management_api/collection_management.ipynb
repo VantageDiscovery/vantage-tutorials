{
  "cells": [
    {
      "cell_type": "markdown",
      "metadata": {
        "id": "-t91wzcKTcOg"
      },
      "source": [
        "# Getting Started with Vantage: Collection Management\n",
        "\n",
        "Welcome to the Collection Management part of our [Getting Started with Vantage](https://github.com/VantageDiscovery/vantage-tutorials/tree/main/examples/sdk/python/notebooks/getting_started) series.\n",
        "\n",
        "A Collection is the fundamental object in the Vantage platform that enables you to organize, manage, and search your data sets within the platform.\n",
        "\n",
        "Your data records, called documents, are ingested into a collection. Your search queries run against a collection. We currently support text data in collections, but we will soon support other types of data as well.\n",
        "\n",
        "When creating a collection, you give it an ID, a name, and specify some parameters for the AI model that will be used to embed your collection data.\n",
        "\n",
        "You can create many collections in your account to separate your different data sets that you want to search against.\n",
        "\n",
        "Let's see how we can leverage these functionalities using our SDK!\n",
        "\n",
        "[![Open In Colab](https://colab.research.google.com/assets/colab-badge.svg)](https://colab.research.google.com/github/VantageDiscovery/vantage-tutorials/blob/main/examples/sdk/python/notebooks/getting_started/management_api/collection_management.ipynb)"
      ]
    },
    {
      "cell_type": "markdown",
      "metadata": {},
      "source": [
        "### ✅ Installation\n",
        "\n",
        "The first step involves installing the [Vantage](https://pypi.org/project/vantage-sdk/) package."
      ]
    },
    {
      "cell_type": "code",
      "execution_count": null,
      "metadata": {},
      "outputs": [],
      "source": [
        "! pip install vantage-sdk -qU"
      ]
    },
    {
      "cell_type": "markdown",
      "metadata": {},
      "source": [
        "As usual, let's import the necessary libraries.\n",
        "\n",
        "In this example we will need just the `os` library to load our environment variables:"
      ]
    },
    {
      "cell_type": "code",
      "execution_count": null,
      "metadata": {},
      "outputs": [],
      "source": [
        "import os"
      ]
    },
    {
      "cell_type": "markdown",
      "metadata": {},
      "source": [
        "### ✅ Initialization\n",
        "\n",
        "In this example, we will authenticate using a Vantage API Key.\n",
        "For additional details on initializing the Vantage client, refer to the [notebook](../initializing_the_client.ipynb) that covers this topic first.\n",
        "\n",
        "Please update the following two cells with the appropriate values."
      ]
    },
    {
      "cell_type": "code",
      "execution_count": null,
      "metadata": {},
      "outputs": [],
      "source": [
        "ACCOUNT_ID = \"YOUR_ACCOUNT_ID\"\n",
        "API_HOST = \"https://api.dev-a.dev.vantagediscovery.com\""
      ]
    },
    {
      "cell_type": "code",
      "execution_count": null,
      "metadata": {},
      "outputs": [],
      "source": [
        "%env VANTAGE_API_KEY=VANTAGE_API_KEY"
      ]
    },
    {
      "cell_type": "code",
      "execution_count": null,
      "metadata": {},
      "outputs": [],
      "source": [
        "from vantage_sdk import VantageClient\n",
        "\n",
        "vantage_instance = VantageClient.using_vantage_api_key(\n",
        "    vantage_api_key=os.environ[\"VANTAGE_API_KEY\"],\n",
        "    account_id=ACCOUNT_ID,\n",
        "    api_host=API_HOST,\n",
        ")"
      ]
    },
    {
      "cell_type": "markdown",
      "metadata": {
        "id": "0JbjLc8ytZQB"
      },
      "source": [
        "### ✅ Collection Management\n",
        "\n",
        "The Collection Management API enables the listing of your collections, creation of new ones, updating existing collections, and deleting them.\n",
        "\n",
        "In the following cells, you will find more details on each of these functionalities."
      ]
    },
    {
      "cell_type": "markdown",
      "metadata": {
        "id": "W9OOK1y1td-3"
      },
      "source": [
        "#### Get All Collections\n",
        "\n",
        "- Easily access all your collections by calling `list_collections` method."
      ]
    },
    {
      "cell_type": "code",
      "execution_count": null,
      "metadata": {
        "colab": {
          "base_uri": "https://localhost:8080/"
        },
        "id": "_4-OtgP2tjWG",
        "outputId": "87d9f35a-9dc6-4b08-bced-a768e7fcef32"
      },
      "outputs": [],
      "source": [
        "collections = vantage_instance.list_collections()\n",
        "collections"
      ]
    },
    {
      "cell_type": "markdown",
      "metadata": {
        "id": "cP7Fs9B9v5PG"
      },
      "source": [
        "#### Create Collection\n",
        "\n",
        "There are different types of collections, depending on whether you want Vantage to manage and create embeddings from your data, or if you prefer to provide them manually. The Python SDK provides two types of classes based on this distinction:\n",
        "\n",
        "UserProvidedEmbeddingCollection and\n",
        "VantageManagedEmbeddingCollection.\n",
        "Further, depending on the LLM provider, which is either OpenAI or HuggingFace, Vantage-managed embedding collections are divided into OpenAICollection and HuggingFaceCollection classes. You should instantiate the appropriate one. \n",
        "\n",
        "Further details are provided in our [documentation](https://docs.vantagediscovery.com/docs/collections)."
      ]
    },
    {
      "cell_type": "markdown",
      "metadata": {
        "id": "qMTXR94PsSRr"
      },
      "source": [
        "**Vantage Managed Embeddings (VME)**\n",
        "\n",
        "Below, you can see the cells representing the creation of two types of Vantage-managed embeddings collections.\n",
        "\n",
        "The parameter that represents the actual embedding model (LLM) differs:\n",
        "\n",
        "- OpenAI collections require the `llm` parameter, where you can provide the OpenAI model name.\n",
        "- HuggingFace collections use the `external_url` parameter, which represents the endpoint URL of the deployed HF model."
      ]
    },
    {
      "cell_type": "code",
      "execution_count": null,
      "metadata": {
        "colab": {
          "base_uri": "https://localhost:8080/"
        },
        "id": "xXcn7X3tsSRs",
        "outputId": "949460e6-b39b-4f05-e57a-7ba8488f4fa3"
      },
      "outputs": [],
      "source": [
        "from vantage_sdk.model.collection import OpenAICollection\n",
        "\n",
        "openai_collection_id = \"vantage-managed-openai\"\n",
        "\n",
        "openai_collection = OpenAICollection(\n",
        "    collection_id=openai_collection_id,\n",
        "    embeddings_dimension=1536,\n",
        "    llm=\"text-embedding-ada-002\",\n",
        "    llm_secret=\"YOUR_OPENAI_KEY\",\n",
        ")\n",
        "\n",
        "created_openai_collection = vantage_instance.create_collection(openai_collection)\n",
        "\n",
        "created_openai_collection"
      ]
    },
    {
      "cell_type": "code",
      "execution_count": null,
      "metadata": {},
      "outputs": [],
      "source": [
        "from vantage_sdk.model.collection import HuggingFaceCollection\n",
        "\n",
        "hf_collection_id = \"vantage-managed-hf\"\n",
        "\n",
        "hf_collection = HuggingFaceCollection(\n",
        "    collection_id=hf_collection,\n",
        "    embeddings_dimension=1536,\n",
        "    external_url=\"HF_ENDPOINT_URL\",\n",
        "    external_account_id=\"YOUR_MODEL_API_KEY_ID\",\n",
        ")\n",
        "\n",
        "created_hf_collection = vantage_instance.create_collection(hf_collection)\n",
        "\n",
        "created_hf_collection"
      ]
    },
    {
      "cell_type": "markdown",
      "metadata": {
        "id": "gHqIjKRowtoD"
      },
      "source": [
        "**User Provided Embeddings (UPE)**\n",
        "\n",
        "The cell below describes how you can create a user-provided embeddings collection. It simply requires only the `collection_id` and the `embedding_dimensions` parameters.\n",
        "\n",
        "> ❗ *The semantic search by text query endpoint will not be avaiable for UPE collections.*"
      ]
    },
    {
      "cell_type": "code",
      "execution_count": null,
      "metadata": {
        "colab": {
          "base_uri": "https://localhost:8080/"
        },
        "id": "TPbR7wdiwdom",
        "outputId": "54ddf8ab-a44a-400c-ce69-e643dcc410e3"
      },
      "outputs": [],
      "source": [
        "from vantage_sdk.model.collection import UserProvidedEmbeddingsCollection\n",
        "\n",
        "upe_collection_id = \"user-provided\"\n",
        "\n",
        "upe_collection = UserProvidedEmbeddingsCollection(\n",
        "    collection_id=upe_collection_id,\n",
        "    embeddings_dimension=3,\n",
        ")\n",
        "\n",
        "created_vme_collection = vantage_instance.create_collection(upe_collection)\n",
        "\n",
        "created_vme_collection"
      ]
    },
    {
      "cell_type": "markdown",
      "metadata": {
        "id": "J_pfS_vgvr-W"
      },
      "source": [
        "#### Get One Collection\n",
        "\n",
        "- Easily access your collection by providing its `collection_id`."
      ]
    },
    {
      "cell_type": "code",
      "execution_count": null,
      "metadata": {
        "colab": {
          "base_uri": "https://localhost:8080/"
        },
        "id": "BH2OMGilvwaa",
        "outputId": "19c03725-649c-4425-b69a-cabed97198cb"
      },
      "outputs": [],
      "source": [
        "collection = vantage_instance.get_collection(\n",
        "    collection_id = upe_collection_id\n",
        ")\n",
        "\n",
        "collection"
      ]
    },
    {
      "cell_type": "markdown",
      "metadata": {
        "id": "yMOhBG5u4NeA"
      },
      "source": [
        "#### Update Collection\n",
        "\n",
        "- Easily update your collection by providing its `collection_id` along with the specific fields you wish to update.\n",
        "  - Currently, it is possible to change the `collection_name`."
      ]
    },
    {
      "cell_type": "code",
      "execution_count": null,
      "metadata": {
        "colab": {
          "base_uri": "https://localhost:8080/"
        },
        "id": "BM66o60R4Rgm",
        "outputId": "a9d43ecf-0df3-4730-908d-9c819671d298"
      },
      "outputs": [],
      "source": [
        "updated_collection = vantage_instance.update_collection(\n",
        "    collection_id = upe_collection_id,\n",
        "    collection_name = \"Updated Collection Name\",\n",
        ")\n",
        "\n",
        "updated_collection"
      ]
    },
    {
      "cell_type": "markdown",
      "metadata": {
        "id": "hgUgzoUZ5H3R"
      },
      "source": [
        "#### Delete Collection\n",
        "\n",
        "- Easily delete your collection by providing its `collection_id`."
      ]
    },
    {
      "cell_type": "code",
      "execution_count": 14,
      "metadata": {
        "id": "-qroTc6E5KiW"
      },
      "outputs": [],
      "source": [
        "vantage_instance.delete_collection(\n",
        "    collection_id = upe_collection_id\n",
        ")"
      ]
    },
    {
      "cell_type": "markdown",
      "metadata": {
        "id": "QTCr5LcQW1rs"
      },
      "source": [
        "## 📌 Next Steps\n",
        "\n",
        "You are now familiar with the Collection Management endpoints! \n",
        "\n",
        "You can take a look at other notebooks from our [Getting Started with Vantage](https://github.com/VantageDiscovery/vantage-tutorials/tree/main/examples/sdk/python/notebooks/getting_started) series or continue using Vantage on your own.\n",
        "\n",
        "If you need some ideas, check our [Tutorials](https://docs.vantagediscovery.com/docs/tutorials), where you can find inspiration and best practices for using Vantage.\n",
        "\n",
        "Happy discovering! 🔎\n"
      ]
    }
  ],
  "metadata": {
    "colab": {
      "provenance": [],
      "toc_visible": true
    },
    "kernelspec": {
      "display_name": "Python 3",
      "name": "python3"
    },
    "language_info": {
      "codemirror_mode": {
        "name": "ipython",
        "version": 3
      },
      "file_extension": ".py",
      "mimetype": "text/x-python",
      "name": "python",
      "nbconvert_exporter": "python",
      "pygments_lexer": "ipython3",
      "version": "3.10.13"
    }
  },
  "nbformat": 4,
  "nbformat_minor": 0
}
