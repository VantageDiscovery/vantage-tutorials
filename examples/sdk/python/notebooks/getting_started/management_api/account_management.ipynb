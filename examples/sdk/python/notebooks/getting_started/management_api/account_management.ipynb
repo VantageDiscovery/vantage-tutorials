{
  "cells": [
    {
      "cell_type": "markdown",
      "metadata": {
        "id": "-t91wzcKTcOg"
      },
      "source": [
        "# Getting Started with Vantage: Account Management\n",
        "\n",
        "Welcome to the Account Management part of our [Getting Started with Vantage](https://github.com/VantageDiscovery/vantage-tutorials/tree/main/examples/sdk/python/notebooks/getting_started) series.\n",
        "\n",
        "This notebook will demonstrate the account management capabilities provided by the Vantage SDK and guide you on how to use them effectively.\n",
        "\n",
        "Let's start!\n",
        "\n",
        "[![Open In Colab](https://colab.research.google.com/assets/colab-badge.svg)](https://colab.research.google.com/github/VantageDiscovery/vantage-tutorials/blob/main/examples/sdk/python/notebooks/getting_started/management_api/account_management.ipynb)"
      ]
    },
    {
      "cell_type": "markdown",
      "metadata": {},
      "source": [
        "### ✅ Installation\n",
        "\n",
        "The first step involves installing the [Vantage](https://pypi.org/project/vantage-sdk/) package."
      ]
    },
    {
      "cell_type": "code",
      "execution_count": null,
      "metadata": {},
      "outputs": [],
      "source": [
        "! pip install vantage-sdk==0.7.0 -qU"
      ]
    },
    {
      "cell_type": "markdown",
      "metadata": {},
      "source": [
        "As usual, let's import the necessary libraries.\n",
        "\n",
        "In this example we will need just the `os` library to load our environment variables:"
      ]
    },
    {
      "cell_type": "code",
      "execution_count": null,
      "metadata": {},
      "outputs": [],
      "source": [
        "import os"
      ]
    },
    {
      "cell_type": "markdown",
      "metadata": {
        "id": "8kSM3HYEhIbT"
      },
      "source": [
        "### ✅ Initialization\n",
        "\n",
        "In this example, we will authenticate using a JWT token.\n",
        "For additional details on initializing the Vantage client, refer to the [notebook](../initializing_the_client.ipynb) that covers this topic first.\n",
        "\n",
        "Please update the following two cells with the appropriate values."
      ]
    },
    {
      "cell_type": "code",
      "execution_count": null,
      "metadata": {
        "id": "7WVN9gJshIbT"
      },
      "outputs": [],
      "source": [
        "ACCOUNT_ID = \"YOUR_ACCOUNT_ID\"\n",
        "API_HOST = \"https://api.dev-a.dev.vantagediscovery.com\""
      ]
    },
    {
      "cell_type": "code",
      "execution_count": null,
      "metadata": {
        "id": "3xjrA9SMhIbT"
      },
      "outputs": [],
      "source": [
        "%env VANTAGE_API_KEY=VANTAGE_API_KEY"
      ]
    },
    {
      "cell_type": "code",
      "execution_count": null,
      "metadata": {
        "id": "pYSR6mabhIbT"
      },
      "outputs": [],
      "source": [
        "from vantage_sdk import VantageClient\n",
        "\n",
        "vantage_instance = VantageClient.using_vantage_api_key(\n",
        "    vantage_api_key=os.environ[\"VANTAGE_API_KEY\"],\n",
        "    account_id=ACCOUNT_ID,\n",
        "    api_host=API_HOST,\n",
        ")"
      ]
    },
    {
      "cell_type": "markdown",
      "metadata": {
        "id": "OqPe7i92hR2j"
      },
      "source": [
        "## ✅ Account Management\n",
        "\n",
        "The Account Management API enables the display of your account details and the updating of its information.\n",
        "\n",
        "In the following cells, you will find more details on both of these functionalities."
      ]
    },
    {
      "cell_type": "markdown",
      "metadata": {
        "id": "0yMV2Fr1sEbT"
      },
      "source": [
        "#### Get Account Details\n",
        "\n",
        "- Easily access your account details by calling `get_account` method."
      ]
    },
    {
      "cell_type": "code",
      "execution_count": null,
      "metadata": {
        "colab": {
          "base_uri": "https://localhost:8080/"
        },
        "id": "PFdfptAdhWtO",
        "outputId": "23ff662a-defe-4d07-963b-42985c22bf95"
      },
      "outputs": [],
      "source": [
        "account = vantage_instance.get_account()\n",
        "account"
      ]
    },
    {
      "cell_type": "markdown",
      "metadata": {
        "id": "AR4Pmc9_sOWt"
      },
      "source": [
        "#### Update Account Details\n",
        "\n",
        "- Easily update your account details by calling `update_account` along with the specific fields you wish to update.\n",
        "  - Currently, it is possible to change the `account_name`."
      ]
    },
    {
      "cell_type": "code",
      "execution_count": null,
      "metadata": {
        "colab": {
          "base_uri": "https://localhost:8080/"
        },
        "id": "MxAHHjFKh4JJ",
        "outputId": "a5d34c0b-3d9c-4ab1-c00a-35010b6e26ff"
      },
      "outputs": [],
      "source": [
        "new_account_name = \"new_name\"\n",
        "\n",
        "updated_account = vantage_instance.update_account(\n",
        "    account_name = new_account_name\n",
        ")\n",
        "updated_account"
      ]
    },
    {
      "cell_type": "markdown",
      "metadata": {
        "id": "QTCr5LcQW1rs"
      },
      "source": [
        "## 📌 Next Steps\n",
        "\n",
        "You are now familiar with the Account Management endpoints! \n",
        "\n",
        "You can take a look at other notebooks from our [Getting Started with Vantage](https://github.com/VantageDiscovery/vantage-tutorials/tree/main/examples/sdk/python/notebooks/getting_started) series or continue using Vantage on your own.\n",
        "\n",
        "If you need some ideas, check our [Tutorials](https://docs.vantagediscovery.com/docs/tutorials), where you can find inspiration and best practices for using Vantage.\n",
        "\n",
        "Happy discovering! 🔎\n"
      ]
    }
  ],
  "metadata": {
    "colab": {
      "provenance": [],
      "toc_visible": true
    },
    "kernelspec": {
      "display_name": "Python 3",
      "name": "python3"
    },
    "language_info": {
      "codemirror_mode": {
        "name": "ipython",
        "version": 3
      },
      "file_extension": ".py",
      "mimetype": "text/x-python",
      "name": "python",
      "nbconvert_exporter": "python",
      "pygments_lexer": "ipython3",
      "version": "3.10.13"
    }
  },
  "nbformat": 4,
  "nbformat_minor": 0
}
