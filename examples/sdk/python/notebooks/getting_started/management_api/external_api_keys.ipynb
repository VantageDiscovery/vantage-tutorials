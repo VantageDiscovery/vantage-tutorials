{
  "cells": [
    {
      "cell_type": "markdown",
      "metadata": {
        "id": "-t91wzcKTcOg"
      },
      "source": [
        "# Getting Started with Vantage: External API Keys\n",
        "\n",
        "Welcome to the External API Keys part of our [Getting Started with Vantage](https://github.com/VantageDiscovery/vantage-tutorials/tree/main/examples/sdk/python/notebooks/getting_started) series.\n",
        "\n",
        "As described in the [Collection Management notebook](https://github.com/VantageDiscovery/vantage-tutorials/blob/main/examples/sdk/python/notebooks/getting_started/management_api/collection_management.ipynb), Vantage offers two types of collections.\n",
        "\n",
        "One type is the Vantage Managed Embeddings (VME), where Vantage uses Large Language Models (LLMs) to generate embeddings from the data you supply. For this process, Vantage requires details about the LLM provider, including its API secret.\n",
        "\n",
        "To securely handle this, we use External API keys to encapsulate the LLM provider's secret keys.\n",
        "\n",
        "This notebook will demonstrate the external API keys endpoints provided by the Vantage SDK and guide you on how to use them effectively.\n",
        "\n",
        "Let's start!\n",
        "\n",
        "[![Open In Colab](https://colab.research.google.com/assets/colab-badge.svg)](https://colab.research.google.com/github/VantageDiscovery/vantage-tutorials/blob/main/examples/sdk/python/notebooks/getting_started/management_api/external_api_keys.ipynb)"
      ]
    },
    {
      "cell_type": "markdown",
      "metadata": {},
      "source": [
        "### ✅ Installation\n",
        "\n",
        "The first step involves installing the [Vantage](https://pypi.org/project/vantage-sdk/) package."
      ]
    },
    {
      "cell_type": "code",
      "execution_count": null,
      "metadata": {},
      "outputs": [],
      "source": [
        "! pip install vantage-sdk==0.7.0 -qU"
      ]
    },
    {
      "cell_type": "markdown",
      "metadata": {},
      "source": [
        "As usual, let's import the necessary libraries.\n",
        "\n",
        "In this example we will need just the `os` library to load our environment variables:"
      ]
    },
    {
      "cell_type": "code",
      "execution_count": null,
      "metadata": {},
      "outputs": [],
      "source": [
        "import os"
      ]
    },
    {
      "cell_type": "markdown",
      "metadata": {},
      "source": [
        "### ✅ Initialization\n",
        "\n",
        "In this example, we will authenticate using a Vantage API Key.\n",
        "For additional details on initializing the Vantage client, refer to the [notebook](../initializing_the_client.ipynb) that covers this topic first.\n",
        "\n",
        "Please update the following two cells with the appropriate values."
      ]
    },
    {
      "cell_type": "code",
      "execution_count": null,
      "metadata": {},
      "outputs": [],
      "source": [
        "ACCOUNT_ID = \"YOUR_ACCOUNT_ID\"\n",
        "API_HOST = \"https://api.dev-a.dev.vantagediscovery.com\""
      ]
    },
    {
      "cell_type": "code",
      "execution_count": null,
      "metadata": {},
      "outputs": [],
      "source": [
        "%env VANTAGE_API_KEY=VANTAGE_API_KEY"
      ]
    },
    {
      "cell_type": "code",
      "execution_count": null,
      "metadata": {},
      "outputs": [],
      "source": [
        "from vantage_sdk import VantageClient\n",
        "\n",
        "vantage_instance = VantageClient.using_vantage_api_key(\n",
        "    vantage_api_key=os.environ[\"VANTAGE_API_KEY\"],\n",
        "    account_id=ACCOUNT_ID,\n",
        "    api_host=API_HOST,\n",
        ")"
      ]
    },
    {
      "cell_type": "markdown",
      "metadata": {
        "id": "802A2kzX8Pvf"
      },
      "source": [
        "### ✅ External API Keys\n",
        "\n",
        "The External API Keys API enables the listing of your external API keys, creation of new ones, updating existing keys, and deleting them.\n",
        "\n",
        "In the following cells, you will find more details on each of these functionalities."
      ]
    },
    {
      "cell_type": "markdown",
      "metadata": {
        "id": "DBZTkqzJ8Pvf"
      },
      "source": [
        "#### Get All External Keys\n",
        "\n",
        "- Easily access all your external keys by calling `get_external_api_keys` method."
      ]
    },
    {
      "cell_type": "code",
      "execution_count": 7,
      "metadata": {
        "colab": {
          "base_uri": "https://localhost:8080/"
        },
        "id": "ArMe1Re88Pvf",
        "outputId": "4f5fbc7f-680b-4a5e-a750-72d2831f29d0"
      },
      "outputs": [
        {
          "data": {
            "text/plain": [
              "[ExternalAPIKey(external_key_id='8bc8369f-14b5-47c7-9aa2-88150b42e6b5', account_id='jelena1', external_key_created_date='2024-02-13T11:18:54', url=None, llm_provider='OpenAI', llm_secret='sk-YE**********************************************')]"
            ]
          },
          "execution_count": 7,
          "metadata": {},
          "output_type": "execute_result"
        }
      ],
      "source": [
        "external_keys = vantage_instance.get_external_api_keys()\n",
        "external_keys"
      ]
    },
    {
      "cell_type": "markdown",
      "metadata": {
        "id": "SZ9oLxdCRWhO"
      },
      "source": [
        "#### Create External Key\n",
        "\n",
        "- Create your external key by providing `llm_provider` and `llm_secret` values.\n",
        "  - Currently, we support [OpenAI](https://platform.openai.com/docs/guides/embeddings/embedding-models) and [HuggingFace](https://huggingface.co/models) as LLM providers."
      ]
    },
    {
      "cell_type": "code",
      "execution_count": null,
      "metadata": {
        "id": "CtmHdtQLRWhP"
      },
      "outputs": [],
      "source": [
        "llm_provider = \"OpenAI\"  # OpenAI or HuggingFace\n",
        "llm_secret = \"YOUR_LLM_SECRET\"\n",
        "\n",
        "external_key = vantage_instance.create_external_api_key(\n",
        "    llm_provider = llm_provider,\n",
        "    llm_secret = llm_secret,\n",
        ")\n",
        "\n",
        "external_key"
      ]
    },
    {
      "cell_type": "markdown",
      "metadata": {
        "id": "oEPwbRru8Pvf"
      },
      "source": [
        "#### Get One External Key\n",
        "\n",
        "- Easily access your external key by providing its `external_key_id`."
      ]
    },
    {
      "cell_type": "code",
      "execution_count": 9,
      "metadata": {
        "colab": {
          "base_uri": "https://localhost:8080/"
        },
        "id": "Cnb00mIl8Pvg",
        "outputId": "4bd81aae-a633-409e-ff0b-ba8f329b0475"
      },
      "outputs": [
        {
          "data": {
            "text/plain": [
              "ExternalAPIKey(external_key_id='b056a1fe-3bf6-4771-98ac-5587dd32e9a6', account_id='jelena1', external_key_created_date='2024-02-13T11:30:38', url=None, llm_provider='OpenAI', llm_secret='sk-YE**********************************************')"
            ]
          },
          "execution_count": 9,
          "metadata": {},
          "output_type": "execute_result"
        }
      ],
      "source": [
        "external_key_id = \"YOUR_EXTERNAL_KEY_ID\"\n",
        "\n",
        "external_key = vantage_instance.get_external_api_key(\n",
        "    external_key_id = external_key_id,\n",
        ")\n",
        "\n",
        "external_key"
      ]
    },
    {
      "cell_type": "markdown",
      "metadata": {
        "id": "tXSyYDUG8Pvg"
      },
      "source": [
        "#### Update External Key\n",
        "\n",
        "- Easily update your external key by providing its `external_key_id` along with the specific fields you wish to update.\n",
        "  - It is possible to update both the `llm_provider` and `llm_secret`."
      ]
    },
    {
      "cell_type": "code",
      "execution_count": null,
      "metadata": {
        "id": "gH-QZgqI8Pvg"
      },
      "outputs": [],
      "source": [
        "updated_external_key = vantage_instance.update_external_api_key(\n",
        "    external_key_id = external_key_id,\n",
        "    llm_provider = \"OpenAI\",\n",
        "    llm_secret = \"YOUR_NEW_LLM_SECRET\",\n",
        ")\n",
        "\n",
        "updated_external_key"
      ]
    },
    {
      "cell_type": "markdown",
      "metadata": {
        "id": "jZuIK6hr8Pvg"
      },
      "source": [
        "#### Delete External Key\n",
        "\n",
        "- Easily delete your external key by providing its `external_key_id`."
      ]
    },
    {
      "cell_type": "code",
      "execution_count": 11,
      "metadata": {
        "id": "GEK5G1E68Pvg"
      },
      "outputs": [],
      "source": [
        "deleted_external_key = vantage_instance.delete_external_api_key(\n",
        "    external_key_id = external_key_id,\n",
        ")"
      ]
    },
    {
      "cell_type": "markdown",
      "metadata": {
        "id": "QTCr5LcQW1rs"
      },
      "source": [
        "## 📌 Next Steps\n",
        "\n",
        "You are now familiar with the External API Keys endpoints!\n",
        "\n",
        "You can take a look at other notebooks from our [Getting Started with Vantage](https://github.com/VantageDiscovery/vantage-tutorials/tree/main/examples/sdk/python/notebooks/getting_started) series or continue using Vantage on your own.\n",
        "\n",
        "If you need some ideas, check our [Tutorials](https://docs.vantagediscovery.com/docs/tutorials), where you can find inspiration and best practices for using Vantage.\n",
        "\n",
        "Happy discovering! 🔎\n"
      ]
    }
  ],
  "metadata": {
    "colab": {
      "provenance": [],
      "toc_visible": true
    },
    "kernelspec": {
      "display_name": "Python 3",
      "name": "python3"
    },
    "language_info": {
      "name": "python"
    }
  },
  "nbformat": 4,
  "nbformat_minor": 0
}
